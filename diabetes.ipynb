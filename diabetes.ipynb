{
 "cells": [
  {
   "cell_type": "markdown",
   "metadata": {},
   "source": [
    "<div style=\"text-align: center; padding: 20px; background-color: #000000; border-radius: 10px; margin: 20px 0;\">\n",
    "    <h1 style=\"color: #008080 \t;\">Regression Analysis on Diabetes dataset from the scikit-learn library<h1>\n",
    "    <hr style=\"border: 2px solid #008080;\">\n",
    "</div>"
   ]
  },
  {
   "cell_type": "markdown",
   "metadata": {},
   "source": [
    "In this project we will explore various loss functions and apply gradient descent methods to optimize these functions. Your focus will be on the Diabetes dataset from the scikit-learn library, a well-regarded dataset in the machine learning community. This dataset\n",
    "consists of medical diagnostic measurements from numerous patients and is specifically designed to study diabetes progression. We will use these data points to predict the quantitative measure of disease progression one year after baseline, thus practicing the\n",
    "application of regression analysis in a medical context"
   ]
  },
  {
   "cell_type": "markdown",
   "metadata": {},
   "source": [
    "## Import Needed Libraries"
   ]
  },
  {
   "cell_type": "code",
   "execution_count": 3,
   "metadata": {},
   "outputs": [],
   "source": [
    "import sklearn.datasets as datasets\n",
    "import pandas as pd\n",
    "import numpy as np\n",
    "from sklearn.preprocessing import MinMaxScaler, StandardScaler\n",
    "from sklearn.model_selection import train_test_split\n",
    "import math\n",
    "from sklearn.linear_model import LinearRegression\n",
    "import matplotlib.pyplot as plt"
   ]
  },
  {
   "cell_type": "code",
   "execution_count": 4,
   "metadata": {},
   "outputs": [],
   "source": [
    "TEST_SIZE = 0.2"
   ]
  },
  {
   "cell_type": "markdown",
   "metadata": {},
   "source": [
    "# Warm-up: Exploring the Diabetes Dataset"
   ]
  },
  {
   "cell_type": "markdown",
   "metadata": {},
   "source": [
    "### Loading Dataset"
   ]
  },
  {
   "cell_type": "code",
   "execution_count": 5,
   "metadata": {},
   "outputs": [],
   "source": [
    "diabetes = datasets.load_diabetes(scaled=False, as_frame=True)\n",
    "diabetes_df = pd.DataFrame(data=diabetes.data, columns=diabetes.feature_names)\n",
    "diabetes_df['disease-progression'] = diabetes.target"
   ]
  },
  {
   "cell_type": "markdown",
   "metadata": {},
   "source": [
    "### Showing First Rows"
   ]
  },
  {
   "cell_type": "code",
   "execution_count": 6,
   "metadata": {},
   "outputs": [
    {
     "data": {
      "text/html": [
       "<div>\n",
       "<style scoped>\n",
       "    .dataframe tbody tr th:only-of-type {\n",
       "        vertical-align: middle;\n",
       "    }\n",
       "\n",
       "    .dataframe tbody tr th {\n",
       "        vertical-align: top;\n",
       "    }\n",
       "\n",
       "    .dataframe thead th {\n",
       "        text-align: right;\n",
       "    }\n",
       "</style>\n",
       "<table border=\"1\" class=\"dataframe\">\n",
       "  <thead>\n",
       "    <tr style=\"text-align: right;\">\n",
       "      <th></th>\n",
       "      <th>age</th>\n",
       "      <th>sex</th>\n",
       "      <th>bmi</th>\n",
       "      <th>bp</th>\n",
       "      <th>s1</th>\n",
       "      <th>s2</th>\n",
       "      <th>s3</th>\n",
       "      <th>s4</th>\n",
       "      <th>s5</th>\n",
       "      <th>s6</th>\n",
       "      <th>disease-progression</th>\n",
       "    </tr>\n",
       "  </thead>\n",
       "  <tbody>\n",
       "    <tr>\n",
       "      <th>0</th>\n",
       "      <td>59.0</td>\n",
       "      <td>2.0</td>\n",
       "      <td>32.1</td>\n",
       "      <td>101.0</td>\n",
       "      <td>157.0</td>\n",
       "      <td>93.2</td>\n",
       "      <td>38.0</td>\n",
       "      <td>4.00</td>\n",
       "      <td>4.8598</td>\n",
       "      <td>87.0</td>\n",
       "      <td>151.0</td>\n",
       "    </tr>\n",
       "    <tr>\n",
       "      <th>1</th>\n",
       "      <td>48.0</td>\n",
       "      <td>1.0</td>\n",
       "      <td>21.6</td>\n",
       "      <td>87.0</td>\n",
       "      <td>183.0</td>\n",
       "      <td>103.2</td>\n",
       "      <td>70.0</td>\n",
       "      <td>3.00</td>\n",
       "      <td>3.8918</td>\n",
       "      <td>69.0</td>\n",
       "      <td>75.0</td>\n",
       "    </tr>\n",
       "    <tr>\n",
       "      <th>2</th>\n",
       "      <td>72.0</td>\n",
       "      <td>2.0</td>\n",
       "      <td>30.5</td>\n",
       "      <td>93.0</td>\n",
       "      <td>156.0</td>\n",
       "      <td>93.6</td>\n",
       "      <td>41.0</td>\n",
       "      <td>4.00</td>\n",
       "      <td>4.6728</td>\n",
       "      <td>85.0</td>\n",
       "      <td>141.0</td>\n",
       "    </tr>\n",
       "    <tr>\n",
       "      <th>3</th>\n",
       "      <td>24.0</td>\n",
       "      <td>1.0</td>\n",
       "      <td>25.3</td>\n",
       "      <td>84.0</td>\n",
       "      <td>198.0</td>\n",
       "      <td>131.4</td>\n",
       "      <td>40.0</td>\n",
       "      <td>5.00</td>\n",
       "      <td>4.8903</td>\n",
       "      <td>89.0</td>\n",
       "      <td>206.0</td>\n",
       "    </tr>\n",
       "    <tr>\n",
       "      <th>4</th>\n",
       "      <td>50.0</td>\n",
       "      <td>1.0</td>\n",
       "      <td>23.0</td>\n",
       "      <td>101.0</td>\n",
       "      <td>192.0</td>\n",
       "      <td>125.4</td>\n",
       "      <td>52.0</td>\n",
       "      <td>4.00</td>\n",
       "      <td>4.2905</td>\n",
       "      <td>80.0</td>\n",
       "      <td>135.0</td>\n",
       "    </tr>\n",
       "    <tr>\n",
       "      <th>5</th>\n",
       "      <td>23.0</td>\n",
       "      <td>1.0</td>\n",
       "      <td>22.6</td>\n",
       "      <td>89.0</td>\n",
       "      <td>139.0</td>\n",
       "      <td>64.8</td>\n",
       "      <td>61.0</td>\n",
       "      <td>2.00</td>\n",
       "      <td>4.1897</td>\n",
       "      <td>68.0</td>\n",
       "      <td>97.0</td>\n",
       "    </tr>\n",
       "    <tr>\n",
       "      <th>6</th>\n",
       "      <td>36.0</td>\n",
       "      <td>2.0</td>\n",
       "      <td>22.0</td>\n",
       "      <td>90.0</td>\n",
       "      <td>160.0</td>\n",
       "      <td>99.6</td>\n",
       "      <td>50.0</td>\n",
       "      <td>3.00</td>\n",
       "      <td>3.9512</td>\n",
       "      <td>82.0</td>\n",
       "      <td>138.0</td>\n",
       "    </tr>\n",
       "    <tr>\n",
       "      <th>7</th>\n",
       "      <td>66.0</td>\n",
       "      <td>2.0</td>\n",
       "      <td>26.2</td>\n",
       "      <td>114.0</td>\n",
       "      <td>255.0</td>\n",
       "      <td>185.0</td>\n",
       "      <td>56.0</td>\n",
       "      <td>4.55</td>\n",
       "      <td>4.2485</td>\n",
       "      <td>92.0</td>\n",
       "      <td>63.0</td>\n",
       "    </tr>\n",
       "    <tr>\n",
       "      <th>8</th>\n",
       "      <td>60.0</td>\n",
       "      <td>2.0</td>\n",
       "      <td>32.1</td>\n",
       "      <td>83.0</td>\n",
       "      <td>179.0</td>\n",
       "      <td>119.4</td>\n",
       "      <td>42.0</td>\n",
       "      <td>4.00</td>\n",
       "      <td>4.4773</td>\n",
       "      <td>94.0</td>\n",
       "      <td>110.0</td>\n",
       "    </tr>\n",
       "    <tr>\n",
       "      <th>9</th>\n",
       "      <td>29.0</td>\n",
       "      <td>1.0</td>\n",
       "      <td>30.0</td>\n",
       "      <td>85.0</td>\n",
       "      <td>180.0</td>\n",
       "      <td>93.4</td>\n",
       "      <td>43.0</td>\n",
       "      <td>4.00</td>\n",
       "      <td>5.3845</td>\n",
       "      <td>88.0</td>\n",
       "      <td>310.0</td>\n",
       "    </tr>\n",
       "  </tbody>\n",
       "</table>\n",
       "</div>"
      ],
      "text/plain": [
       "    age  sex   bmi     bp     s1     s2    s3    s4      s5    s6  \\\n",
       "0  59.0  2.0  32.1  101.0  157.0   93.2  38.0  4.00  4.8598  87.0   \n",
       "1  48.0  1.0  21.6   87.0  183.0  103.2  70.0  3.00  3.8918  69.0   \n",
       "2  72.0  2.0  30.5   93.0  156.0   93.6  41.0  4.00  4.6728  85.0   \n",
       "3  24.0  1.0  25.3   84.0  198.0  131.4  40.0  5.00  4.8903  89.0   \n",
       "4  50.0  1.0  23.0  101.0  192.0  125.4  52.0  4.00  4.2905  80.0   \n",
       "5  23.0  1.0  22.6   89.0  139.0   64.8  61.0  2.00  4.1897  68.0   \n",
       "6  36.0  2.0  22.0   90.0  160.0   99.6  50.0  3.00  3.9512  82.0   \n",
       "7  66.0  2.0  26.2  114.0  255.0  185.0  56.0  4.55  4.2485  92.0   \n",
       "8  60.0  2.0  32.1   83.0  179.0  119.4  42.0  4.00  4.4773  94.0   \n",
       "9  29.0  1.0  30.0   85.0  180.0   93.4  43.0  4.00  5.3845  88.0   \n",
       "\n",
       "   disease-progression  \n",
       "0                151.0  \n",
       "1                 75.0  \n",
       "2                141.0  \n",
       "3                206.0  \n",
       "4                135.0  \n",
       "5                 97.0  \n",
       "6                138.0  \n",
       "7                 63.0  \n",
       "8                110.0  \n",
       "9                310.0  "
      ]
     },
     "metadata": {},
     "output_type": "display_data"
    }
   ],
   "source": [
    "display(diabetes_df.head(10))"
   ]
  },
  {
   "cell_type": "markdown",
   "metadata": {},
   "source": [
    "### Showing Data Types"
   ]
  },
  {
   "cell_type": "code",
   "execution_count": 7,
   "metadata": {},
   "outputs": [
    {
     "name": "stdout",
     "output_type": "stream",
     "text": [
      "<class 'pandas.core.frame.DataFrame'>\n",
      "RangeIndex: 442 entries, 0 to 441\n",
      "Data columns (total 11 columns):\n",
      " #   Column               Non-Null Count  Dtype  \n",
      "---  ------               --------------  -----  \n",
      " 0   age                  442 non-null    float64\n",
      " 1   sex                  442 non-null    float64\n",
      " 2   bmi                  442 non-null    float64\n",
      " 3   bp                   442 non-null    float64\n",
      " 4   s1                   442 non-null    float64\n",
      " 5   s2                   442 non-null    float64\n",
      " 6   s3                   442 non-null    float64\n",
      " 7   s4                   442 non-null    float64\n",
      " 8   s5                   442 non-null    float64\n",
      " 9   s6                   442 non-null    float64\n",
      " 10  disease-progression  442 non-null    float64\n",
      "dtypes: float64(11)\n",
      "memory usage: 38.1 KB\n"
     ]
    },
    {
     "data": {
      "text/plain": [
       "None"
      ]
     },
     "metadata": {},
     "output_type": "display_data"
    }
   ],
   "source": [
    "display(diabetes_df.info())"
   ]
  },
  {
   "cell_type": "markdown",
   "metadata": {},
   "source": [
    "As we can see, all columns are numerical (float64) and there are no missing values."
   ]
  },
  {
   "cell_type": "markdown",
   "metadata": {},
   "source": [
    "### Handling Missing Values"
   ]
  },
  {
   "cell_type": "code",
   "execution_count": 8,
   "metadata": {},
   "outputs": [
    {
     "name": "stdout",
     "output_type": "stream",
     "text": [
      "column age has 0 missing values\n",
      "column sex has 0 missing values\n",
      "column bmi has 0 missing values\n",
      "column bp has 0 missing values\n",
      "column s1 has 0 missing values\n",
      "column s2 has 0 missing values\n",
      "column s3 has 0 missing values\n",
      "column s4 has 0 missing values\n",
      "column s5 has 0 missing values\n",
      "column s6 has 0 missing values\n",
      "column disease-progression has 0 missing values\n"
     ]
    }
   ],
   "source": [
    "def count_nulls(df):\n",
    "    for col in df.columns:\n",
    "        print(f'column {col} has {df[col].isnull().sum()} missing values')\n",
    "count_nulls(diabetes_df)"
   ]
  },
  {
   "cell_type": "markdown",
   "metadata": {},
   "source": [
    "As we can see, and also it was mentioned before, there are no missing values in this dataset so we can proceed to the next step."
   ]
  },
  {
   "cell_type": "markdown",
   "metadata": {},
   "source": [
    "### Normalizing Features"
   ]
  },
  {
   "cell_type": "markdown",
   "metadata": {},
   "source": [
    "In this part wr will normalize the features to ensure all are on a similar scale. For this purpose we use Min-Max scaling which scales the data to a fixed range, typically between 0 and 1."
   ]
  },
  {
   "cell_type": "code",
   "execution_count": 9,
   "metadata": {},
   "outputs": [
    {
     "data": {
      "text/html": [
       "<div>\n",
       "<style scoped>\n",
       "    .dataframe tbody tr th:only-of-type {\n",
       "        vertical-align: middle;\n",
       "    }\n",
       "\n",
       "    .dataframe tbody tr th {\n",
       "        vertical-align: top;\n",
       "    }\n",
       "\n",
       "    .dataframe thead th {\n",
       "        text-align: right;\n",
       "    }\n",
       "</style>\n",
       "<table border=\"1\" class=\"dataframe\">\n",
       "  <thead>\n",
       "    <tr style=\"text-align: right;\">\n",
       "      <th></th>\n",
       "      <th>age</th>\n",
       "      <th>sex</th>\n",
       "      <th>bmi</th>\n",
       "      <th>bp</th>\n",
       "      <th>s1</th>\n",
       "      <th>s2</th>\n",
       "      <th>s3</th>\n",
       "      <th>s4</th>\n",
       "      <th>s5</th>\n",
       "      <th>s6</th>\n",
       "      <th>disease-progression</th>\n",
       "    </tr>\n",
       "  </thead>\n",
       "  <tbody>\n",
       "    <tr>\n",
       "      <th>0</th>\n",
       "      <td>0.666667</td>\n",
       "      <td>1.0</td>\n",
       "      <td>0.582645</td>\n",
       "      <td>0.549296</td>\n",
       "      <td>0.294118</td>\n",
       "      <td>0.256972</td>\n",
       "      <td>0.207792</td>\n",
       "      <td>0.282087</td>\n",
       "      <td>0.562217</td>\n",
       "      <td>0.439394</td>\n",
       "      <td>0.392523</td>\n",
       "    </tr>\n",
       "    <tr>\n",
       "      <th>1</th>\n",
       "      <td>0.483333</td>\n",
       "      <td>0.0</td>\n",
       "      <td>0.148760</td>\n",
       "      <td>0.352113</td>\n",
       "      <td>0.421569</td>\n",
       "      <td>0.306773</td>\n",
       "      <td>0.623377</td>\n",
       "      <td>0.141044</td>\n",
       "      <td>0.222437</td>\n",
       "      <td>0.166667</td>\n",
       "      <td>0.155763</td>\n",
       "    </tr>\n",
       "    <tr>\n",
       "      <th>2</th>\n",
       "      <td>0.883333</td>\n",
       "      <td>1.0</td>\n",
       "      <td>0.516529</td>\n",
       "      <td>0.436620</td>\n",
       "      <td>0.289216</td>\n",
       "      <td>0.258964</td>\n",
       "      <td>0.246753</td>\n",
       "      <td>0.282087</td>\n",
       "      <td>0.496578</td>\n",
       "      <td>0.409091</td>\n",
       "      <td>0.361371</td>\n",
       "    </tr>\n",
       "    <tr>\n",
       "      <th>3</th>\n",
       "      <td>0.083333</td>\n",
       "      <td>0.0</td>\n",
       "      <td>0.301653</td>\n",
       "      <td>0.309859</td>\n",
       "      <td>0.495098</td>\n",
       "      <td>0.447211</td>\n",
       "      <td>0.233766</td>\n",
       "      <td>0.423131</td>\n",
       "      <td>0.572923</td>\n",
       "      <td>0.469697</td>\n",
       "      <td>0.563863</td>\n",
       "    </tr>\n",
       "    <tr>\n",
       "      <th>4</th>\n",
       "      <td>0.516667</td>\n",
       "      <td>0.0</td>\n",
       "      <td>0.206612</td>\n",
       "      <td>0.549296</td>\n",
       "      <td>0.465686</td>\n",
       "      <td>0.417331</td>\n",
       "      <td>0.389610</td>\n",
       "      <td>0.282087</td>\n",
       "      <td>0.362385</td>\n",
       "      <td>0.333333</td>\n",
       "      <td>0.342679</td>\n",
       "    </tr>\n",
       "    <tr>\n",
       "      <th>5</th>\n",
       "      <td>0.066667</td>\n",
       "      <td>0.0</td>\n",
       "      <td>0.190083</td>\n",
       "      <td>0.380282</td>\n",
       "      <td>0.205882</td>\n",
       "      <td>0.115538</td>\n",
       "      <td>0.506494</td>\n",
       "      <td>0.000000</td>\n",
       "      <td>0.327003</td>\n",
       "      <td>0.151515</td>\n",
       "      <td>0.224299</td>\n",
       "    </tr>\n",
       "    <tr>\n",
       "      <th>6</th>\n",
       "      <td>0.283333</td>\n",
       "      <td>1.0</td>\n",
       "      <td>0.165289</td>\n",
       "      <td>0.394366</td>\n",
       "      <td>0.308824</td>\n",
       "      <td>0.288845</td>\n",
       "      <td>0.363636</td>\n",
       "      <td>0.141044</td>\n",
       "      <td>0.243287</td>\n",
       "      <td>0.363636</td>\n",
       "      <td>0.352025</td>\n",
       "    </tr>\n",
       "    <tr>\n",
       "      <th>7</th>\n",
       "      <td>0.783333</td>\n",
       "      <td>1.0</td>\n",
       "      <td>0.338843</td>\n",
       "      <td>0.732394</td>\n",
       "      <td>0.774510</td>\n",
       "      <td>0.714143</td>\n",
       "      <td>0.441558</td>\n",
       "      <td>0.359661</td>\n",
       "      <td>0.347643</td>\n",
       "      <td>0.515152</td>\n",
       "      <td>0.118380</td>\n",
       "    </tr>\n",
       "    <tr>\n",
       "      <th>8</th>\n",
       "      <td>0.683333</td>\n",
       "      <td>1.0</td>\n",
       "      <td>0.582645</td>\n",
       "      <td>0.295775</td>\n",
       "      <td>0.401961</td>\n",
       "      <td>0.387450</td>\n",
       "      <td>0.259740</td>\n",
       "      <td>0.282087</td>\n",
       "      <td>0.427955</td>\n",
       "      <td>0.545455</td>\n",
       "      <td>0.264798</td>\n",
       "    </tr>\n",
       "    <tr>\n",
       "      <th>9</th>\n",
       "      <td>0.166667</td>\n",
       "      <td>0.0</td>\n",
       "      <td>0.495868</td>\n",
       "      <td>0.323944</td>\n",
       "      <td>0.406863</td>\n",
       "      <td>0.257968</td>\n",
       "      <td>0.272727</td>\n",
       "      <td>0.282087</td>\n",
       "      <td>0.746393</td>\n",
       "      <td>0.454545</td>\n",
       "      <td>0.887850</td>\n",
       "    </tr>\n",
       "  </tbody>\n",
       "</table>\n",
       "</div>"
      ],
      "text/plain": [
       "        age  sex       bmi        bp        s1        s2        s3        s4  \\\n",
       "0  0.666667  1.0  0.582645  0.549296  0.294118  0.256972  0.207792  0.282087   \n",
       "1  0.483333  0.0  0.148760  0.352113  0.421569  0.306773  0.623377  0.141044   \n",
       "2  0.883333  1.0  0.516529  0.436620  0.289216  0.258964  0.246753  0.282087   \n",
       "3  0.083333  0.0  0.301653  0.309859  0.495098  0.447211  0.233766  0.423131   \n",
       "4  0.516667  0.0  0.206612  0.549296  0.465686  0.417331  0.389610  0.282087   \n",
       "5  0.066667  0.0  0.190083  0.380282  0.205882  0.115538  0.506494  0.000000   \n",
       "6  0.283333  1.0  0.165289  0.394366  0.308824  0.288845  0.363636  0.141044   \n",
       "7  0.783333  1.0  0.338843  0.732394  0.774510  0.714143  0.441558  0.359661   \n",
       "8  0.683333  1.0  0.582645  0.295775  0.401961  0.387450  0.259740  0.282087   \n",
       "9  0.166667  0.0  0.495868  0.323944  0.406863  0.257968  0.272727  0.282087   \n",
       "\n",
       "         s5        s6  disease-progression  \n",
       "0  0.562217  0.439394             0.392523  \n",
       "1  0.222437  0.166667             0.155763  \n",
       "2  0.496578  0.409091             0.361371  \n",
       "3  0.572923  0.469697             0.563863  \n",
       "4  0.362385  0.333333             0.342679  \n",
       "5  0.327003  0.151515             0.224299  \n",
       "6  0.243287  0.363636             0.352025  \n",
       "7  0.347643  0.515152             0.118380  \n",
       "8  0.427955  0.545455             0.264798  \n",
       "9  0.746393  0.454545             0.887850  "
      ]
     },
     "metadata": {},
     "output_type": "display_data"
    }
   ],
   "source": [
    "def normalize_data(df, scaler = MinMaxScaler()):\n",
    "    df[df.columns] = scaler.fit_transform(df[df.columns])\n",
    "\n",
    "normalize_data(diabetes_df)\n",
    "display(diabetes_df.head(10))"
   ]
  },
  {
   "cell_type": "markdown",
   "metadata": {},
   "source": [
    "### Splitting the data into Training and Testing sets"
   ]
  },
  {
   "cell_type": "markdown",
   "metadata": {},
   "source": [
    "In this part we will split the data into training and testing sets. We will use 80% of the data for training and 20% for testing."
   ]
  },
  {
   "cell_type": "code",
   "execution_count": 10,
   "metadata": {},
   "outputs": [
    {
     "name": "stdout",
     "output_type": "stream",
     "text": [
      "shape of X_train: (353, 10)\n",
      "shape of X_test: (89, 10)\n",
      "shape of y_train: (353,)\n",
      "shape of y_test: (89,)\n"
     ]
    }
   ],
   "source": [
    "def split_train_test(df, target_column, test_size=TEST_SIZE):\n",
    "    X = df.drop(target_column, axis=1)\n",
    "    y = df[target_column]\n",
    "    X_train, X_test, y_train, y_test = train_test_split(X, y, test_size=test_size, random_state=42)\n",
    "    return X_train, X_test, y_train, y_test\n",
    "\n",
    "X_train, X_test, y_train, y_test = split_train_test(diabetes_df, 'disease-progression')\n",
    "print(f'shape of X_train: {X_train.shape}')\n",
    "print(f'shape of X_test: {X_test.shape}')\n",
    "print(f'shape of y_train: {y_train.shape}')\n",
    "print(f'shape of y_test: {y_test.shape}')"
   ]
  },
  {
   "cell_type": "markdown",
   "metadata": {},
   "source": [
    "The shape provides information about the dimensions of the variable arrays in the training or testing set. The target variable has only one dimension, while the feature variables have 10 dimensions. Also as we can see the training set has 353 samples and the testing set has 89 samples which is 20% of the total data."
   ]
  },
  {
   "cell_type": "markdown",
   "metadata": {},
   "source": [
    "## Part 1: Functions’ Implementation"
   ]
  },
  {
   "cell_type": "code",
   "execution_count": 11,
   "metadata": {},
   "outputs": [
    {
     "name": "stdout",
     "output_type": "stream",
     "text": [
      "shape of X_train: (419, 10)\n",
      "shape of X_test: (23, 10)\n",
      "shape of y_train: (419,)\n",
      "shape of y_test: (23,)\n"
     ]
    }
   ],
   "source": [
    "TEST_SIZE1 = 0.05\n",
    "X_train, X_test, y_train, y_test = split_train_test(diabetes_df, 'disease-progression', TEST_SIZE1)\n",
    "print(f'shape of X_train: {X_train.shape}')\n",
    "print(f'shape of X_test: {X_test.shape}')\n",
    "print(f'shape of y_train: {y_train.shape}')\n",
    "print(f'shape of y_test: {y_test.shape}')"
   ]
  },
  {
   "cell_type": "markdown",
   "metadata": {},
   "source": [
    "In this part we will implement the following functions:\n",
    "- Mean Squared Error (MSE)\n",
    "- Mean Absolute Error (MAE)\n",
    "- Root Mean Squared Error (RMSE)\n",
    "- $R^{2}$ Score (Coefficient of Determination)"
   ]
  },
  {
   "cell_type": "markdown",
   "metadata": {},
   "source": [
    "### Mean Squared Error (MSE) Implementation"
   ]
  },
  {
   "cell_type": "markdown",
   "metadata": {},
   "source": [
    "Mean Squared Error (MSE) is the average of the squared differences between the predicted and actual values. It is a measure of how close a fitted line is to actual data points. A small MSE means the predicted and actual values are close.\n",
    "$$MSE = \\frac{1}{n} \\sum_{i=1}^{n} (y_{i} - \\hat{y}_{i})^{2}$$"
   ]
  },
  {
   "cell_type": "code",
   "execution_count": 12,
   "metadata": {},
   "outputs": [],
   "source": [
    "def calc_mean_squared_error(y_true, y_pred):\n",
    "    squared_errors = [(true - pred) ** 2 for true, pred in zip(y_true, y_pred)]\n",
    "    mse = sum(squared_errors) / len(squared_errors)\n",
    "    return mse"
   ]
  },
  {
   "cell_type": "markdown",
   "metadata": {},
   "source": [
    "### Mean Absolute Error (MAE) Implementation"
   ]
  },
  {
   "cell_type": "markdown",
   "metadata": {},
   "source": [
    "Mean Absolute Error (MAE) is the average of the absolute differences between the predicted and actual values. It is a measure of errors between paired observations expressing the same phenomenon.\n",
    "$$MAE = \\frac{1}{n} \\sum_{i=1}^{n} |y_{i} - \\hat{y}_{i}|$$"
   ]
  },
  {
   "cell_type": "code",
   "execution_count": 13,
   "metadata": {},
   "outputs": [],
   "source": [
    "def calc_mean_absolute_error(y_true, y_pred):\n",
    "    absolute_errors = [abs(true - pred) for true, pred in zip(y_true, y_pred)]\n",
    "    mae = sum(absolute_errors) / len(absolute_errors)\n",
    "    return mae"
   ]
  },
  {
   "cell_type": "markdown",
   "metadata": {},
   "source": [
    "### Root Mean Squared Error (RMSE) Implementation"
   ]
  },
  {
   "cell_type": "markdown",
   "metadata": {},
   "source": [
    "Root Mean Squared Error (RMSE) is the square root of the average of the squared differences between the predicted and actual values. It is a measure of the differences between values predicted by a model and the values observed.\n",
    "$$RMSE = \\sqrt{\\frac{1}{n} \\sum_{i=1}^{n} (y_{i} - \\hat{y}_{i})^{2}}$$"
   ]
  },
  {
   "cell_type": "code",
   "execution_count": 14,
   "metadata": {},
   "outputs": [],
   "source": [
    "def calc_root_mean_squared_error(y_true, y_pred):\n",
    "    squared_errors = [(true - pred) ** 2 for true, pred in zip(y_true, y_pred)]\n",
    "    mean_squared_error = sum(squared_errors) / len(squared_errors)\n",
    "    rmse = math.sqrt(mean_squared_error)\n",
    "    return rmse"
   ]
  },
  {
   "cell_type": "markdown",
   "metadata": {},
   "source": [
    "### $R^2$ Score (Coefficient of Determination) Implementation"
   ]
  },
  {
   "cell_type": "markdown",
   "metadata": {},
   "source": [
    "$R^2$ Score (Coefficient of Determination) is a statistical measure of how close the data are to the fitted regression line. It is also known as the coefficient of determination. The values for $R^2$ range from 0 to 1, which captures the percentage of squared correlation between the predicted and actual values.\n",
    "$$R^{2} = 1 - \\frac{\\sum_{i=1}^{n} (y_{i} - \\hat{y}_{i})^{2}}{\\sum_{i=1}^{n} (y_{i} - \\bar{y})^{2}}$$"
   ]
  },
  {
   "cell_type": "code",
   "execution_count": 15,
   "metadata": {},
   "outputs": [],
   "source": [
    "def calc_r2_score(y_true, y_pred):\n",
    "    mean_true = sum(y_true) / len(y_true)\n",
    "    tss = sum([(true - mean_true) ** 2 for true in y_true])\n",
    "    rss = sum([(true - pred) ** 2 for true, pred in zip(y_true, y_pred)])\n",
    "    r2 = 1 - (rss / tss)\n",
    "    return r2"
   ]
  },
  {
   "cell_type": "markdown",
   "metadata": {},
   "source": [
    "### Adjusted $R^2$ Score Implementation"
   ]
  },
  {
   "cell_type": "markdown",
   "metadata": {},
   "source": [
    "Adjusted $R^2$ Score is a modified version of $R^2$ that adjusts for the number of predictors in a regression model. It is calculated as:\n",
    "$$Adjusted \\ R^{2} = 1 - \\frac{(1 - R^{2}) (n - 1)}{n - p - 1}$$"
   ]
  },
  {
   "cell_type": "code",
   "execution_count": 16,
   "metadata": {},
   "outputs": [],
   "source": [
    "def calc_adjusted_r2_score(y_true, y_pred, n_features):\n",
    "    r2 = calc_r2_score(y_true, y_pred)\n",
    "    n = len(y_true)\n",
    "    adjusted_r2 = 1 - ((1 - r2) * (n - 1) / (n - n_features - 1))\n",
    "    return adjusted_r2"
   ]
  },
  {
   "cell_type": "markdown",
   "metadata": {},
   "source": [
    "## Part 2: Building and Training the Linear Regression Model"
   ]
  },
  {
   "cell_type": "code",
   "execution_count": 17,
   "metadata": {},
   "outputs": [],
   "source": [
    "def train_linear_regression(X_train, y_train, predict):\n",
    "    model = LinearRegression()\n",
    "    model.fit(X_train, y_train)\n",
    "    return model.predict(predict)\n",
    "\n",
    "y_test_pred = train_linear_regression(X_train, y_train, X_test)\n"
   ]
  },
  {
   "cell_type": "markdown",
   "metadata": {},
   "source": [
    "## Part 3: Evaluating the Model"
   ]
  },
  {
   "cell_type": "code",
   "execution_count": 18,
   "metadata": {},
   "outputs": [
    {
     "data": {
      "image/png": "[encoded data removed]",
      "text/plain": [
       "<Figure size 800x600 with 1 Axes>"
      ]
     },
     "metadata": {},
     "output_type": "display_data"
    }
   ],
   "source": [
    "def plot_results(y_true, y_pred):\n",
    "    plt.figure(figsize=(8, 6))\n",
    "    plt.scatter(y_test, y_pred, color='blue', alpha=0.7)\n",
    "    plt.plot([min(y_test), max(y_test)], [min(y_test), max(y_test)], color='red', linestyle='--')\n",
    "    plt.title('Actual vs. Predicted Progression Measures')\n",
    "    plt.xlabel('Actual Progression Measures')\n",
    "    plt.ylabel('Predicted Progression Measures')\n",
    "    plt.show()\n",
    "    \n",
    "plot_results(y_test, y_test_pred)"
   ]
  },
  {
   "cell_type": "code",
   "execution_count": 19,
   "metadata": {},
   "outputs": [
    {
     "name": "stdout",
     "output_type": "stream",
     "text": [
      "--------------------------------------\n",
      "Statistics For Test Data\n",
      "--------------------------------------\n",
      "mean squared error: 0.03412341559589118\n",
      "mean absolute error: 0.15351501644437401\n",
      "root mean squared error: 0.18472524352640918\n",
      "r2 score: 0.5163792932946591\n"
     ]
    }
   ],
   "source": [
    "def print_statics(data, mse, mae, rmse, r2):\n",
    "    print(f'--------------------------------------\\nStatistics For {data}\\n--------------------------------------')\n",
    "    print(f'mean squared error: {mse}')\n",
    "    print(f'mean absolute error: {mae}')\n",
    "    print(f'root mean squared error: {rmse}')\n",
    "    print(f'r2 score: {r2}')\n",
    "\n",
    "def calc_metrics(y_true, y_pred):\n",
    "    mse = calc_mean_squared_error(y_true, y_pred)\n",
    "    mae = calc_mean_absolute_error(y_true, y_pred)\n",
    "    rmse = calc_root_mean_squared_error(y_true, y_pred)\n",
    "    r2 = calc_r2_score(y_true, y_pred)\n",
    "    return mse, mae, rmse, r2\n",
    "\n",
    "mse, mae, rmse, r2 = calc_metrics(y_test, y_test_pred)\n",
    "print_statics('Test Data', mse, mae, rmse, r2)\n"
   ]
  },
  {
   "cell_type": "code",
   "execution_count": 20,
   "metadata": {},
   "outputs": [
    {
     "name": "stdout",
     "output_type": "stream",
     "text": [
      "--------------------------------------\n",
      "Statistics For Train Data\n",
      "--------------------------------------\n",
      "mean squared error: 0.027476630917671878\n",
      "mean absolute error: 0.13384373047504514\n",
      "root mean squared error: 0.16576076410801163\n",
      "r2 score: 0.5135880257685111\n"
     ]
    }
   ],
   "source": [
    "y_train_pred = train_linear_regression(X_train, y_train, X_train)\n",
    "mse, mae, rmse, r2 = calc_metrics(y_train, y_train_pred)\n",
    "print_statics('Train Data', mse, mae, rmse, r2)"
   ]
  },
  {
   "cell_type": "markdown",
   "metadata": {},
   "source": [
    "<style>\n",
    "table {\n",
    "    margin-left: auto;\n",
    "    margin-right: auto;\n",
    "}\n",
    "</style>\n",
    "\n",
    "| Data Type / Optimizer   | MSE   | MAE   | RMSE  | $R^{2}$ Score |                                                                 \n",
    "|:------------------------|:------|:------|:------|:--------------|\n",
    "| Train Set               | 0.027 | 0.13  | 0.16  | 0.52          |\n",
    "| Test Set                | 0.028 | 0.13  | 0.16  | 0.45          |\n"
   ]
  },
  {
   "cell_type": "markdown",
   "metadata": {},
   "source": [
    "## Part 4: Ordinary Least Squares (OLS)"
   ]
  },
  {
   "cell_type": "markdown",
   "metadata": {},
   "source": [
    "### Using Functions from sklearn.metrics"
   ]
  },
  {
   "cell_type": "code",
   "execution_count": 21,
   "metadata": {},
   "outputs": [
    {
     "name": "stdout",
     "output_type": "stream",
     "text": [
      "--------------------------------------\n",
      "Statistics For Test Data\n",
      "--------------------------------------\n",
      "mean squared error: 0.03412341559589118\n",
      "mean absolute error: 0.15351501644437401\n",
      "root mean squared error: 0.18472524352640918\n",
      "r2 score: 0.5163792932946591\n"
     ]
    }
   ],
   "source": [
    "from sklearn.metrics import mean_squared_error, mean_absolute_error, r2_score\n",
    "def sklearn_metrics(y_true, y_pred):\n",
    "    mse = mean_squared_error(y_true, y_pred)\n",
    "    mae = mean_absolute_error(y_true, y_pred)\n",
    "    rmse = math.sqrt(mse)\n",
    "    r2 = r2_score(y_true, y_pred)\n",
    "    return mse, mae, rmse, r2\n",
    "\n",
    "mse, mae, rmse, r2 = sklearn_metrics(y_test, y_test_pred)\n",
    "print_statics('Test Data', mse, mae, rmse, r2)"
   ]
  },
  {
   "cell_type": "code",
   "execution_count": 22,
   "metadata": {},
   "outputs": [
    {
     "name": "stdout",
     "output_type": "stream",
     "text": [
      "--------------------------------------\n",
      "Statistics For Train Data\n",
      "--------------------------------------\n",
      "mean squared error: 0.027476630917671878\n",
      "mean absolute error: 0.13384373047504522\n",
      "root mean squared error: 0.16576076410801163\n",
      "r2 score: 0.513588025768511\n"
     ]
    }
   ],
   "source": [
    "mse, mae, rmse, r2 = sklearn_metrics(y_train, y_train_pred)\n",
    "print_statics('Train Data', mse, mae, rmse, r2)"
   ]
  },
  {
   "cell_type": "markdown",
   "metadata": {},
   "source": [
    "As we can see, the results are similar to the ones we implemented before."
   ]
  },
  {
   "cell_type": "code",
   "execution_count": 23,
   "metadata": {},
   "outputs": [
    {
     "data": {
      "text/html": [
       "<table class=\"simpletable\">\n",
       "<caption>OLS Regression Results</caption>\n",
       "<tr>\n",
       "  <th>Dep. Variable:</th>    <td>disease-progression</td> <th>  R-squared (uncentered):</th>      <td>   0.869</td> \n",
       "</tr>\n",
       "<tr>\n",
       "  <th>Model:</th>                    <td>OLS</td>         <th>  Adj. R-squared (uncentered):</th> <td>   0.866</td> \n",
       "</tr>\n",
       "<tr>\n",
       "  <th>Method:</th>              <td>Least Squares</td>    <th>  F-statistic:       </th>          <td>   271.1</td> \n",
       "</tr>\n",
       "<tr>\n",
       "  <th>Date:</th>              <td>Wed, 24 Apr 2024</td>   <th>  Prob (F-statistic):</th>          <td>1.57e-173</td>\n",
       "</tr>\n",
       "<tr>\n",
       "  <th>Time:</th>                  <td>23:31:59</td>       <th>  Log-Likelihood:    </th>          <td>  158.07</td> \n",
       "</tr>\n",
       "<tr>\n",
       "  <th>No. Observations:</th>       <td>   419</td>        <th>  AIC:               </th>          <td>  -296.1</td> \n",
       "</tr>\n",
       "<tr>\n",
       "  <th>Df Residuals:</th>           <td>   409</td>        <th>  BIC:               </th>          <td>  -255.8</td> \n",
       "</tr>\n",
       "<tr>\n",
       "  <th>Df Model:</th>               <td>    10</td>        <th>                     </th>              <td> </td>    \n",
       "</tr>\n",
       "<tr>\n",
       "  <th>Covariance Type:</th>       <td>nonrobust</td>      <th>                     </th>              <td> </td>    \n",
       "</tr>\n",
       "</table>\n",
       "<table class=\"simpletable\">\n",
       "<tr>\n",
       "   <td></td>      <th>coef</th>     <th>std err</th>      <th>t</th>      <th>P>|t|</th>  <th>[0.025</th>    <th>0.975]</th>  \n",
       "</tr>\n",
       "<tr>\n",
       "  <th>age</th> <td>    0.0072</td> <td>    0.042</td> <td>    0.172</td> <td> 0.863</td> <td>   -0.075</td> <td>    0.089</td>\n",
       "</tr>\n",
       "<tr>\n",
       "  <th>sex</th> <td>   -0.0777</td> <td>    0.019</td> <td>   -4.149</td> <td> 0.000</td> <td>   -0.114</td> <td>   -0.041</td>\n",
       "</tr>\n",
       "<tr>\n",
       "  <th>bmi</th> <td>    0.4303</td> <td>    0.056</td> <td>    7.707</td> <td> 0.000</td> <td>    0.321</td> <td>    0.540</td>\n",
       "</tr>\n",
       "<tr>\n",
       "  <th>bp</th>  <td>    0.2559</td> <td>    0.050</td> <td>    5.084</td> <td> 0.000</td> <td>    0.157</td> <td>    0.355</td>\n",
       "</tr>\n",
       "<tr>\n",
       "  <th>s1</th>  <td>   -0.4544</td> <td>    0.193</td> <td>   -2.349</td> <td> 0.019</td> <td>   -0.835</td> <td>   -0.074</td>\n",
       "</tr>\n",
       "<tr>\n",
       "  <th>s2</th>  <td>    0.2297</td> <td>    0.205</td> <td>    1.119</td> <td> 0.264</td> <td>   -0.174</td> <td>    0.633</td>\n",
       "</tr>\n",
       "<tr>\n",
       "  <th>s3</th>  <td>   -0.0398</td> <td>    0.068</td> <td>   -0.584</td> <td> 0.559</td> <td>   -0.174</td> <td>    0.094</td>\n",
       "</tr>\n",
       "<tr>\n",
       "  <th>s4</th>  <td>    0.1385</td> <td>    0.117</td> <td>    1.180</td> <td> 0.238</td> <td>   -0.092</td> <td>    0.369</td>\n",
       "</tr>\n",
       "<tr>\n",
       "  <th>s5</th>  <td>    0.4746</td> <td>    0.092</td> <td>    5.158</td> <td> 0.000</td> <td>    0.294</td> <td>    0.655</td>\n",
       "</tr>\n",
       "<tr>\n",
       "  <th>s6</th>  <td>    0.0474</td> <td>    0.057</td> <td>    0.832</td> <td> 0.406</td> <td>   -0.065</td> <td>    0.160</td>\n",
       "</tr>\n",
       "</table>\n",
       "<table class=\"simpletable\">\n",
       "<tr>\n",
       "  <th>Omnibus:</th>       <td> 0.866</td> <th>  Durbin-Watson:     </th> <td>   1.868</td>\n",
       "</tr>\n",
       "<tr>\n",
       "  <th>Prob(Omnibus):</th> <td> 0.649</td> <th>  Jarque-Bera (JB):  </th> <td>   0.942</td>\n",
       "</tr>\n",
       "<tr>\n",
       "  <th>Skew:</th>          <td> 0.045</td> <th>  Prob(JB):          </th> <td>   0.624</td>\n",
       "</tr>\n",
       "<tr>\n",
       "  <th>Kurtosis:</th>      <td> 2.786</td> <th>  Cond. No.          </th> <td>    49.1</td>\n",
       "</tr>\n",
       "</table><br/><br/>Notes:<br/>[1] R² is computed without centering (uncentered) since the model does not contain a constant.<br/>[2] Standard Errors assume that the covariance matrix of the errors is correctly specified."
      ],
      "text/latex": [
       "\\begin{center}\n",
       "\\begin{tabular}{lclc}\n",
       "\\toprule\n",
       "\\textbf{Dep. Variable:}    & disease-progression & \\textbf{  R-squared (uncentered):}      &     0.869   \\\\\n",
       "\\textbf{Model:}            &         OLS         & \\textbf{  Adj. R-squared (uncentered):} &     0.866   \\\\\n",
       "\\textbf{Method:}           &    Least Squares    & \\textbf{  F-statistic:       }          &     271.1   \\\\\n",
       "\\textbf{Date:}             &   Wed, 24 Apr 2024  & \\textbf{  Prob (F-statistic):}          & 1.57e-173   \\\\\n",
       "\\textbf{Time:}             &       23:31:59      & \\textbf{  Log-Likelihood:    }          &    158.07   \\\\\n",
       "\\textbf{No. Observations:} &           419       & \\textbf{  AIC:               }          &    -296.1   \\\\\n",
       "\\textbf{Df Residuals:}     &           409       & \\textbf{  BIC:               }          &    -255.8   \\\\\n",
       "\\textbf{Df Model:}         &            10       & \\textbf{                     }          &             \\\\\n",
       "\\textbf{Covariance Type:}  &      nonrobust      & \\textbf{                     }          &             \\\\\n",
       "\\bottomrule\n",
       "\\end{tabular}\n",
       "\\begin{tabular}{lcccccc}\n",
       "             & \\textbf{coef} & \\textbf{std err} & \\textbf{t} & \\textbf{P$> |$t$|$} & \\textbf{[0.025} & \\textbf{0.975]}  \\\\\n",
       "\\midrule\n",
       "\\textbf{age} &       0.0072  &        0.042     &     0.172  &         0.863        &       -0.075    &        0.089     \\\\\n",
       "\\textbf{sex} &      -0.0777  &        0.019     &    -4.149  &         0.000        &       -0.114    &       -0.041     \\\\\n",
       "\\textbf{bmi} &       0.4303  &        0.056     &     7.707  &         0.000        &        0.321    &        0.540     \\\\\n",
       "\\textbf{bp}  &       0.2559  &        0.050     &     5.084  &         0.000        &        0.157    &        0.355     \\\\\n",
       "\\textbf{s1}  &      -0.4544  &        0.193     &    -2.349  &         0.019        &       -0.835    &       -0.074     \\\\\n",
       "\\textbf{s2}  &       0.2297  &        0.205     &     1.119  &         0.264        &       -0.174    &        0.633     \\\\\n",
       "\\textbf{s3}  &      -0.0398  &        0.068     &    -0.584  &         0.559        &       -0.174    &        0.094     \\\\\n",
       "\\textbf{s4}  &       0.1385  &        0.117     &     1.180  &         0.238        &       -0.092    &        0.369     \\\\\n",
       "\\textbf{s5}  &       0.4746  &        0.092     &     5.158  &         0.000        &        0.294    &        0.655     \\\\\n",
       "\\textbf{s6}  &       0.0474  &        0.057     &     0.832  &         0.406        &       -0.065    &        0.160     \\\\\n",
       "\\bottomrule\n",
       "\\end{tabular}\n",
       "\\begin{tabular}{lclc}\n",
       "\\textbf{Omnibus:}       &  0.866 & \\textbf{  Durbin-Watson:     } &    1.868  \\\\\n",
       "\\textbf{Prob(Omnibus):} &  0.649 & \\textbf{  Jarque-Bera (JB):  } &    0.942  \\\\\n",
       "\\textbf{Skew:}          &  0.045 & \\textbf{  Prob(JB):          } &    0.624  \\\\\n",
       "\\textbf{Kurtosis:}      &  2.786 & \\textbf{  Cond. No.          } &     49.1  \\\\\n",
       "\\bottomrule\n",
       "\\end{tabular}\n",
       "%\\caption{OLS Regression Results}\n",
       "\\end{center}\n",
       "\n",
       "Notes: \\newline\n",
       " [1] R² is computed without centering (uncentered) since the model does not contain a constant. \\newline\n",
       " [2] Standard Errors assume that the covariance matrix of the errors is correctly specified."
      ],
      "text/plain": [
       "<class 'statsmodels.iolib.summary.Summary'>\n",
       "\"\"\"\n",
       "                                 OLS Regression Results                                 \n",
       "========================================================================================\n",
       "Dep. Variable:     disease-progression   R-squared (uncentered):                   0.869\n",
       "Model:                             OLS   Adj. R-squared (uncentered):              0.866\n",
       "Method:                  Least Squares   F-statistic:                              271.1\n",
       "Date:                 Wed, 24 Apr 2024   Prob (F-statistic):                   1.57e-173\n",
       "Time:                         23:31:59   Log-Likelihood:                          158.07\n",
       "No. Observations:                  419   AIC:                                     -296.1\n",
       "Df Residuals:                      409   BIC:                                     -255.8\n",
       "Df Model:                           10                                                  \n",
       "Covariance Type:             nonrobust                                                  \n",
       "==============================================================================\n",
       "                 coef    std err          t      P>|t|      [0.025      0.975]\n",
       "------------------------------------------------------------------------------\n",
       "age            0.0072      0.042      0.172      0.863      -0.075       0.089\n",
       "sex           -0.0777      0.019     -4.149      0.000      -0.114      -0.041\n",
       "bmi            0.4303      0.056      7.707      0.000       0.321       0.540\n",
       "bp             0.2559      0.050      5.084      0.000       0.157       0.355\n",
       "s1            -0.4544      0.193     -2.349      0.019      -0.835      -0.074\n",
       "s2             0.2297      0.205      1.119      0.264      -0.174       0.633\n",
       "s3            -0.0398      0.068     -0.584      0.559      -0.174       0.094\n",
       "s4             0.1385      0.117      1.180      0.238      -0.092       0.369\n",
       "s5             0.4746      0.092      5.158      0.000       0.294       0.655\n",
       "s6             0.0474      0.057      0.832      0.406      -0.065       0.160\n",
       "==============================================================================\n",
       "Omnibus:                        0.866   Durbin-Watson:                   1.868\n",
       "Prob(Omnibus):                  0.649   Jarque-Bera (JB):                0.942\n",
       "Skew:                           0.045   Prob(JB):                        0.624\n",
       "Kurtosis:                       2.786   Cond. No.                         49.1\n",
       "==============================================================================\n",
       "\n",
       "Notes:\n",
       "[1] R² is computed without centering (uncentered) since the model does not contain a constant.\n",
       "[2] Standard Errors assume that the covariance matrix of the errors is correctly specified.\n",
       "\"\"\""
      ]
     },
     "metadata": {},
     "output_type": "display_data"
    }
   ],
   "source": [
    "import statsmodels.api as sm\n",
    "ols_model = sm.OLS(y_train, X_train)\n",
    "ols_results = ols_model.fit()\n",
    "y_pred = ols_results.predict(X_test)\n",
    "display(ols_results.summary())"
   ]
  },
  {
   "cell_type": "markdown",
   "metadata": {},
   "source": []
  },
  {
   "cell_type": "markdown",
   "metadata": {},
   "source": [
    "# Different Splitting Ratios\n",
    "Now we do the analysis with `TEST_SIZE = 5%` and `TRAIN_SIZE = 95%`. The results are shown below."
   ]
  },
  {
   "attachments": {
    "image.png": {
     "image/png": "[encoded data removed]"
    }
   },
   "cell_type": "markdown",
   "metadata": {},
   "source": [
    "![image.png](attachment:image.png)"
   ]
  },
  {
   "attachments": {
    "image-2.png": {
     "image/png": "[encoded data removed]"
    },
    "image.png": {
     "image/png": "[encoded data removed]"
    }
   },
   "cell_type": "markdown",
   "metadata": {},
   "source": [
    "![image.png](attachment:image.png) \n",
    "![image-2.png](attachment:image-2.png)"
   ]
  },
  {
   "attachments": {
    "image.png": {
     "image/png": "[encoded data removed]"
    }
   },
   "cell_type": "markdown",
   "metadata": {},
   "source": [
    "# Different Features Selection\n",
    "As we calculated p-values for the different features in last section of part 4, we select those features which have p-values less than 0.05. The features which have p-values less than 0.05 are shown below.\n",
    "\n",
    "![image.png](attachment:image.png)\n",
    "\n",
    "The reason for selecting these features is that they have a significant impact on the target variable. The features which have p-values greater than 0.05 are not selected because they do not have a significant impact on the target variable.\n",
    "\n",
    "Now we will use these features to train the model and evaluate it."
   ]
  },
  {
   "cell_type": "code",
   "execution_count": 24,
   "metadata": {},
   "outputs": [],
   "source": [
    "# select the best features using the p-values (sex, bmi, bp, s1, s5)\n",
    "def select_features(X_train, X_test, ols_results):\n",
    "\t\tp_values = ols_results.pvalues\n",
    "\t\tsignificant_features = p_values[p_values < 0.05].index\n",
    "\t\tX_train_selected = X_train[significant_features]\n",
    "\t\tX_test_selected = X_test[significant_features]\n",
    "\t\treturn X_train_selected, X_test_selected"
   ]
  },
  {
   "cell_type": "code",
   "execution_count": 25,
   "metadata": {},
   "outputs": [
    {
     "name": "stdout",
     "output_type": "stream",
     "text": [
      "X_train_selected shape: (419, 5)\n",
      "X_test_selected shape: (23, 5)\n"
     ]
    }
   ],
   "source": [
    "X_train_selected, X_test_selected = select_features(X_train, X_test, ols_results)\n",
    "print(f'X_train_selected shape: {X_train_selected.shape}')\n",
    "print(f'X_test_selected shape: {X_test_selected.shape}')"
   ]
  },
  {
   "cell_type": "code",
   "execution_count": 26,
   "metadata": {},
   "outputs": [
    {
     "name": "stdout",
     "output_type": "stream",
     "text": [
      "--------------------------------------\n",
      "Statistics For Test Data\n",
      "--------------------------------------\n",
      "mean squared error: 0.03135047999139349\n",
      "mean absolute error: 0.14766316699477014\n",
      "root mean squared error: 0.17706066754475283\n",
      "r2 score: 0.5556792594110949\n"
     ]
    }
   ],
   "source": [
    "y_test_pred = train_linear_regression(X_train_selected, y_train, X_test_selected)\n",
    "mse, mae, rmse, r2 = sklearn_metrics(y_test, y_test_pred)\n",
    "print_statics('Test Data', mse, mae, rmse, r2)"
   ]
  },
  {
   "cell_type": "code",
   "execution_count": 27,
   "metadata": {},
   "outputs": [
    {
     "name": "stdout",
     "output_type": "stream",
     "text": [
      "--------------------------------------\n",
      "Statistics For Train Data\n",
      "--------------------------------------\n",
      "mean squared error: 0.028681284191809785\n",
      "mean absolute error: 0.1372382033199388\n",
      "root mean squared error: 0.16935549649128542\n",
      "r2 score: 0.4922623479918742\n"
     ]
    }
   ],
   "source": [
    "y_train_pred = train_linear_regression(X_train_selected, y_train, X_train_selected)\n",
    "mse, mae, rmse, r2 = sklearn_metrics(y_train, y_train_pred)\n",
    "print_statics('Train Data', mse, mae, rmse, r2)"
   ]
  },
  {
   "cell_type": "markdown",
   "metadata": {},
   "source": [
    "### Results\n",
    "As we can see, the results are similar to the ones we implemented before."
   ]
  },
  {
   "cell_type": "markdown",
   "metadata": {},
   "source": [
    "### Select Features with Strong Correlation\n",
    "Now we will select the features which have strong correlation with the target variable."
   ]
  },
  {
   "cell_type": "code",
   "execution_count": 31,
   "metadata": {},
   "outputs": [],
   "source": [
    "# select the best features using the correlation coefficient\n",
    "def select_features(X_train, X_test, y_train, threshold=0.4):\n",
    "\t\tcorrelation_matrix = X_train.corrwith(y_train)\n",
    "\t\tsignificant_features = correlation_matrix[abs(correlation_matrix) > threshold].index\n",
    "\t\tX_train_selected = X_train[significant_features]\n",
    "\t\tX_test_selected = X_test[significant_features]\n",
    "\t\treturn X_train_selected, X_test_selected, significant_features, correlation_matrix"
   ]
  },
  {
   "cell_type": "code",
   "execution_count": 32,
   "metadata": {},
   "outputs": [],
   "source": [
    "X_train_selected, X_test_selected, significant_features, correlation_matrix = select_features(X_train, X_test, y_train)"
   ]
  },
  {
   "cell_type": "code",
   "execution_count": 33,
   "metadata": {},
   "outputs": [
    {
     "name": "stdout",
     "output_type": "stream",
     "text": [
      "X_train_selected shape: (419, 4)\n",
      "X_test_selected shape: (23, 4)\n",
      "significant features: Index(['bmi', 'bp', 's4', 's5'], dtype='object')\n",
      "correlation matrix: age    0.183146\n",
      "sex    0.028448\n",
      "bmi    0.587414\n",
      "bp     0.438960\n",
      "s1     0.209977\n",
      "s2     0.174549\n",
      "s3    -0.387046\n",
      "s4     0.421933\n",
      "s5     0.550800\n",
      "s6     0.374411\n",
      "dtype: float64\n"
     ]
    }
   ],
   "source": [
    "print(f'X_train_selected shape: {X_train_selected.shape}')\n",
    "print(f'X_test_selected shape: {X_test_selected.shape}')\n",
    "print(f'significant features: {significant_features}')\n",
    "print(f'correlation matrix: {correlation_matrix}')"
   ]
  },
  {
   "cell_type": "code",
   "execution_count": 34,
   "metadata": {},
   "outputs": [
    {
     "name": "stdout",
     "output_type": "stream",
     "text": [
      "--------------------------------------\n",
      "Statistics For Test Data\n",
      "--------------------------------------\n",
      "mean squared error: 0.032296560544159754\n",
      "mean absolute error: 0.14969552610340606\n",
      "root mean squared error: 0.17971243847925428\n",
      "r2 score: 0.5422707498132429\n"
     ]
    }
   ],
   "source": [
    "y_test_pred = train_linear_regression(X_train_selected, y_train, X_test_selected)\n",
    "mse, mae, rmse, r2 = sklearn_metrics(y_test, y_test_pred)\n",
    "print_statics('Test Data', mse, mae, rmse, r2)"
   ]
  },
  {
   "cell_type": "code",
   "execution_count": 35,
   "metadata": {},
   "outputs": [
    {
     "name": "stdout",
     "output_type": "stream",
     "text": [
      "--------------------------------------\n",
      "Statistics For Train Data\n",
      "--------------------------------------\n",
      "mean squared error: 0.029751378895229972\n",
      "mean absolute error: 0.1425018309045657\n",
      "root mean squared error: 0.172485880277865\n",
      "r2 score: 0.47331872717952395\n"
     ]
    }
   ],
   "source": [
    "y_train_pred = train_linear_regression(X_train_selected, y_train, X_train_selected)\n",
    "mse, mae, rmse, r2 = sklearn_metrics(y_train, y_train_pred)\n",
    "print_statics('Train Data', mse, mae, rmse, r2)"
   ]
  },
  {
   "cell_type": "markdown",
   "metadata": {},
   "source": [
    "___\n",
    "\n",
    "## Questions"
   ]
  },
  {
   "cell_type": "markdown",
   "metadata": {},
   "source": [
    "___\n",
    "\n",
    "#### Q1 - Analyze and evaluate the values in Table (1).\n",
    "\n",
    "The values for both the training and test datasets are approximately equal. the model shows a good level of consistency between training and testing performance, which is indicative of a well-fitting model.\n",
    "\n",
    "- `Mean Squared Error (MSE)`: The MSE for both the train and test sets is about 0.027, which suggests that the model has a consistent performance on both datasets. A low MSE indicates that the model's predictions are close to the actual values.\n",
    "\n",
    "- `Mean Absolute Error (MAE)`: The MAE for both the train and test sets is 0.13. This value represents the average absolute difference between the predicted values and the actual values. Like MSE, a lower MAE suggests better model performance, and the consistency between train and test sets is a good sign.\n",
    "\n",
    "- `Root Mean Squared Error (RMSE)`: The RMSE values are 0.16 for both train and test sets. RMSE is the square root of MSE and is useful for understanding the magnitude of the error in the same units as the response variable. Consistent RMSE values across train and test sets indicate that the model generalizes well.\n",
    "\n",
    "- `R-squared (R²) Score`: The R² score for the train set is 0.52, and for the test set, it is 0.45. R² is a statistical measure that represents the proportion of variance for the dependent variable that's explained by the independent variables in the model. An R² of 0.52 means that 52% of the variance in the train set is predictable from the independent variables. The slight drop in the test set R² to 0.45 suggests that the model may not capture all the variability in new data, but it's still a moderate score.\n",
    "\n",
    "The model works well and gives similar results during both training and testing. However, there is room for improvement, especially in terms of the R² score, which could potentially be increased with feature engineering, model tuning, or trying different modeling techniques.\n",
    "\n",
    "___"
   ]
  },
  {
   "cell_type": "markdown",
   "metadata": {},
   "source": [
    "#### Q2 - Review the R² and Adjusted R² values obtained in part 4. Explain what these values indicate and what the implications of high or low values might be. Also, discuss the differences between these two metrics.\n",
    "\n",
    "- `R-squared`: The R-squared value of 0.873 suggests that approximately 87.3% of the variance in the dependent variable can be explained by the independent variables in the model. It's a measure of the goodness of fit for the model. A high R-squared value close to 1 indicates a model that explains a large portion of the variance, while a low value indicates less explanatory power.\n",
    "\n",
    "- `Adjusted R-squared`: The Adjusted R-squared value of 0.869 adjusts the R-squared value for the number of predictors in the model. It is a more accurate measure when comparing models with different numbers of independent variables. It penalizes the model for adding independent variables that do not improve the model's ability to predict.\n",
    "\n",
    "A high R-squared value means the model fits the data well, but it doesn't necessarily mean the model is good. It could be overfitting, especially if the model has a lot of predictors.\n",
    "\n",
    "A low R-squared value might mean the model is not fitting the data well, or it could be that the data is inherently difficult to model with a linear approach.\n",
    "\n",
    "Differences between R-squared and Adjusted R-squared:\n",
    "\n",
    "`R-squared` does not take into account the number of predictors in the model. Therefore, adding more predictors to a model will always increase the R-squared value, even if the predictors are not significant.\n",
    "\n",
    "`Adjusted R-squared` accounts for the number of predictors and only increases if the new predictor improves the model more than would be expected by chance. It decreases when a predictor improves the model by less than expected by chance.\n",
    "\n",
    "both metrics are useful, the Adjusted R-squared is often more reliable for determining the quality of a model, especially when comparing models with a different number of predictors. It's important to look at both values in conjunction with other model evaluation metrics to get a comprehensive understanding of the model's performance.\n",
    "\n",
    "___"
   ]
  },
  {
   "cell_type": "markdown",
   "metadata": {},
   "source": [
    "#### Q3 - Review the p-values obtained in part 4 for each column of data and explain what these values indicate. Discuss what an appropriate value for p-values is and which columns currently have suitable values.\n",
    "\n",
    "In the context of an OLS (Ordinary Least Squares) summary, p-values are used to determine the `÷`statistical significance of each coefficient` in the regression model:\n",
    "\n",
    "A `p-value` measures the `probability that the coefficient for an independent variable is actually zero`, given the data. In other words, it tests the null hypothesis that the variable has no effect on the dependent variable.\n",
    "\n",
    "- ##### $H_{0}$ (Null Hypothesis): Variable has no effect on the dependent variable.\n",
    "- ##### $H_{a}$ (Alternative Hypothesis): Variable has effect on the dependent variable.\n",
    "\n",
    "A `low p-value (typically less than 0.05)` suggests that `there is a statistically significant association between the predictor and the dependent variable`. It indicates that the likelihood of the coefficient being zero (and hence having no effect) is low, and therefore, the predictor is likely to be a meaningful addition to the model.\n",
    "\n",
    "A `high p-value` indicates that `the coefficient may not be different from zero`, suggesting that the predictor variable may not have a significant effect on the outcome.\n",
    "\n",
    "The threshold for what constitutes an \"appropriate\" or \"significant\" p-value can vary depending on the field of study and the specific research question. However, a common convention is to use a p-value of 0.05 as a cutoff. This means that if the p-value is less than 0.05, the result is considered statistically significant.\n",
    "\n",
    "- Columns with suitable p-values:\n",
    "\n",
    "1. `sex`\n",
    "2. `bmi`: Body Mass Index\n",
    "3. `bp`:  Average Blood Pressure\n",
    "4. `s1`:  Total serum cholesterol\n",
    "5. `s5`:  Possibly log of serum triglycerides level\n",
    "\n",
    "___"
   ]
  },
  {
   "cell_type": "markdown",
   "metadata": {},
   "source": [
    "#### Q4 - Assess and analyze the importance of each feature in the dataset based on the results obtained in part 4 regarding an individual's diabetic condition.\n",
    "\n",
    "the features with p-values of 0.000 (`sex`, `bmi`, `bp`, and `s5`) are the most statistically significant predictors of diabetes in this dataset and should be given considerable attention when interpreting the model. The `s1` feature is also significant as its p-value is equal to 0.021, although its influence might be less strong compared to sex, bmi, or bp.\n",
    "\n",
    " Features with p-values greater than 0.05 (`age`, `s2`, `s3`, `s4`, and `s6`) do not appear to contribute significantly to the model's ability to predict diabetes. It's important to note that while p-values provide insight into statistical significance, they do not measure the effect size or the practical significance of the predictors."
   ]
  }
 ],
 "metadata": {
  "kernelspec": {
   "display_name": "Python 3",
   "language": "python",
   "name": "python3"
  },
  "language_info": {
   "codemirror_mode": {
    "name": "ipython",
    "version": 3
   },
   "file_extension": ".py",
   "mimetype": "text/x-python",
   "name": "python",
   "nbconvert_exporter": "python",
   "pygments_lexer": "ipython3",
   "version": "3.9.13"
  },
  "orig_nbformat": 4
 },
 "nbformat": 4,
 "nbformat_minor": 2
}
