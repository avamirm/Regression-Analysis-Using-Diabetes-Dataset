{
 "cells": [
  {
   "cell_type": "markdown",
   "metadata": {},
   "source": [
    "<div style=\"text-align: center; padding: 20px; background-color: #000000; border-radius: 10px; margin: 20px 0;\">\n",
    "    <h1 style=\"color: #008080 \t;\">Regression Analysis on Diabetes dataset from the scikit-learn library<h1>\n",
    "    <hr style=\"border: 2px solid #008080;\">\n",
    "</div>"
   ]
  },
  {
   "cell_type": "markdown",
   "metadata": {},
   "source": [
    "In this project we will explore various loss functions and apply gradient descent methods to optimize these functions. Your focus will be on the Diabetes dataset from the scikit-learn library, a well-regarded dataset in the machine learning community. This dataset\n",
    "consists of medical diagnostic measurements from numerous patients and is specifically designed to study diabetes progression. We will use these data points to predict the quantitative measure of disease progression one year after baseline, thus practicing the\n",
    "application of regression analysis in a medical context"
   ]
  },
  {
   "cell_type": "markdown",
   "metadata": {},
   "source": [
    "## Import Needed Libraries"
   ]
  },
  {
   "cell_type": "code",
   "execution_count": 1,
   "metadata": {},
   "outputs": [],
   "source": [
    "import sklearn.datasets as datasets\n",
    "import pandas as pd\n",
    "import numpy as np\n",
    "from sklearn.preprocessing import MinMaxScaler, StandardScaler\n",
    "from sklearn.model_selection import train_test_split\n",
    "import math\n",
    "from sklearn.linear_model import LinearRegression\n",
    "import matplotlib.pyplot as plt"
   ]
  },
  {
   "cell_type": "code",
   "execution_count": 2,
   "metadata": {},
   "outputs": [],
   "source": [
    "TEST_SIZE = 0.2"
   ]
  },
  {
   "cell_type": "markdown",
   "metadata": {},
   "source": [
    "# Warm-up: Exploring the Diabetes Dataset"
   ]
  },
  {
   "cell_type": "markdown",
   "metadata": {},
   "source": [
    "### Loading Dataset"
   ]
  },
  {
   "cell_type": "code",
   "execution_count": 3,
   "metadata": {},
   "outputs": [],
   "source": [
    "diabetes = datasets.load_diabetes(scaled=False, as_frame=True)\n",
    "diabetes_df = pd.DataFrame(data=diabetes.data, columns=diabetes.feature_names)\n",
    "diabetes_df['disease-progression'] = diabetes.target"
   ]
  },
  {
   "cell_type": "markdown",
   "metadata": {},
   "source": [
    "### Showing First Rows"
   ]
  },
  {
   "cell_type": "code",
   "execution_count": 4,
   "metadata": {},
   "outputs": [
    {
     "data": {
      "text/html": [
       "<div>\n",
       "<style scoped>\n",
       "    .dataframe tbody tr th:only-of-type {\n",
       "        vertical-align: middle;\n",
       "    }\n",
       "\n",
       "    .dataframe tbody tr th {\n",
       "        vertical-align: top;\n",
       "    }\n",
       "\n",
       "    .dataframe thead th {\n",
       "        text-align: right;\n",
       "    }\n",
       "</style>\n",
       "<table border=\"1\" class=\"dataframe\">\n",
       "  <thead>\n",
       "    <tr style=\"text-align: right;\">\n",
       "      <th></th>\n",
       "      <th>age</th>\n",
       "      <th>sex</th>\n",
       "      <th>bmi</th>\n",
       "      <th>bp</th>\n",
       "      <th>s1</th>\n",
       "      <th>s2</th>\n",
       "      <th>s3</th>\n",
       "      <th>s4</th>\n",
       "      <th>s5</th>\n",
       "      <th>s6</th>\n",
       "      <th>disease-progression</th>\n",
       "    </tr>\n",
       "  </thead>\n",
       "  <tbody>\n",
       "    <tr>\n",
       "      <th>0</th>\n",
       "      <td>59.0</td>\n",
       "      <td>2.0</td>\n",
       "      <td>32.1</td>\n",
       "      <td>101.0</td>\n",
       "      <td>157.0</td>\n",
       "      <td>93.2</td>\n",
       "      <td>38.0</td>\n",
       "      <td>4.00</td>\n",
       "      <td>4.8598</td>\n",
       "      <td>87.0</td>\n",
       "      <td>151.0</td>\n",
       "    </tr>\n",
       "    <tr>\n",
       "      <th>1</th>\n",
       "      <td>48.0</td>\n",
       "      <td>1.0</td>\n",
       "      <td>21.6</td>\n",
       "      <td>87.0</td>\n",
       "      <td>183.0</td>\n",
       "      <td>103.2</td>\n",
       "      <td>70.0</td>\n",
       "      <td>3.00</td>\n",
       "      <td>3.8918</td>\n",
       "      <td>69.0</td>\n",
       "      <td>75.0</td>\n",
       "    </tr>\n",
       "    <tr>\n",
       "      <th>2</th>\n",
       "      <td>72.0</td>\n",
       "      <td>2.0</td>\n",
       "      <td>30.5</td>\n",
       "      <td>93.0</td>\n",
       "      <td>156.0</td>\n",
       "      <td>93.6</td>\n",
       "      <td>41.0</td>\n",
       "      <td>4.00</td>\n",
       "      <td>4.6728</td>\n",
       "      <td>85.0</td>\n",
       "      <td>141.0</td>\n",
       "    </tr>\n",
       "    <tr>\n",
       "      <th>3</th>\n",
       "      <td>24.0</td>\n",
       "      <td>1.0</td>\n",
       "      <td>25.3</td>\n",
       "      <td>84.0</td>\n",
       "      <td>198.0</td>\n",
       "      <td>131.4</td>\n",
       "      <td>40.0</td>\n",
       "      <td>5.00</td>\n",
       "      <td>4.8903</td>\n",
       "      <td>89.0</td>\n",
       "      <td>206.0</td>\n",
       "    </tr>\n",
       "    <tr>\n",
       "      <th>4</th>\n",
       "      <td>50.0</td>\n",
       "      <td>1.0</td>\n",
       "      <td>23.0</td>\n",
       "      <td>101.0</td>\n",
       "      <td>192.0</td>\n",
       "      <td>125.4</td>\n",
       "      <td>52.0</td>\n",
       "      <td>4.00</td>\n",
       "      <td>4.2905</td>\n",
       "      <td>80.0</td>\n",
       "      <td>135.0</td>\n",
       "    </tr>\n",
       "    <tr>\n",
       "      <th>5</th>\n",
       "      <td>23.0</td>\n",
       "      <td>1.0</td>\n",
       "      <td>22.6</td>\n",
       "      <td>89.0</td>\n",
       "      <td>139.0</td>\n",
       "      <td>64.8</td>\n",
       "      <td>61.0</td>\n",
       "      <td>2.00</td>\n",
       "      <td>4.1897</td>\n",
       "      <td>68.0</td>\n",
       "      <td>97.0</td>\n",
       "    </tr>\n",
       "    <tr>\n",
       "      <th>6</th>\n",
       "      <td>36.0</td>\n",
       "      <td>2.0</td>\n",
       "      <td>22.0</td>\n",
       "      <td>90.0</td>\n",
       "      <td>160.0</td>\n",
       "      <td>99.6</td>\n",
       "      <td>50.0</td>\n",
       "      <td>3.00</td>\n",
       "      <td>3.9512</td>\n",
       "      <td>82.0</td>\n",
       "      <td>138.0</td>\n",
       "    </tr>\n",
       "    <tr>\n",
       "      <th>7</th>\n",
       "      <td>66.0</td>\n",
       "      <td>2.0</td>\n",
       "      <td>26.2</td>\n",
       "      <td>114.0</td>\n",
       "      <td>255.0</td>\n",
       "      <td>185.0</td>\n",
       "      <td>56.0</td>\n",
       "      <td>4.55</td>\n",
       "      <td>4.2485</td>\n",
       "      <td>92.0</td>\n",
       "      <td>63.0</td>\n",
       "    </tr>\n",
       "    <tr>\n",
       "      <th>8</th>\n",
       "      <td>60.0</td>\n",
       "      <td>2.0</td>\n",
       "      <td>32.1</td>\n",
       "      <td>83.0</td>\n",
       "      <td>179.0</td>\n",
       "      <td>119.4</td>\n",
       "      <td>42.0</td>\n",
       "      <td>4.00</td>\n",
       "      <td>4.4773</td>\n",
       "      <td>94.0</td>\n",
       "      <td>110.0</td>\n",
       "    </tr>\n",
       "    <tr>\n",
       "      <th>9</th>\n",
       "      <td>29.0</td>\n",
       "      <td>1.0</td>\n",
       "      <td>30.0</td>\n",
       "      <td>85.0</td>\n",
       "      <td>180.0</td>\n",
       "      <td>93.4</td>\n",
       "      <td>43.0</td>\n",
       "      <td>4.00</td>\n",
       "      <td>5.3845</td>\n",
       "      <td>88.0</td>\n",
       "      <td>310.0</td>\n",
       "    </tr>\n",
       "  </tbody>\n",
       "</table>\n",
       "</div>"
      ],
      "text/plain": [
       "    age  sex   bmi     bp     s1     s2    s3    s4      s5    s6  \\\n",
       "0  59.0  2.0  32.1  101.0  157.0   93.2  38.0  4.00  4.8598  87.0   \n",
       "1  48.0  1.0  21.6   87.0  183.0  103.2  70.0  3.00  3.8918  69.0   \n",
       "2  72.0  2.0  30.5   93.0  156.0   93.6  41.0  4.00  4.6728  85.0   \n",
       "3  24.0  1.0  25.3   84.0  198.0  131.4  40.0  5.00  4.8903  89.0   \n",
       "4  50.0  1.0  23.0  101.0  192.0  125.4  52.0  4.00  4.2905  80.0   \n",
       "5  23.0  1.0  22.6   89.0  139.0   64.8  61.0  2.00  4.1897  68.0   \n",
       "6  36.0  2.0  22.0   90.0  160.0   99.6  50.0  3.00  3.9512  82.0   \n",
       "7  66.0  2.0  26.2  114.0  255.0  185.0  56.0  4.55  4.2485  92.0   \n",
       "8  60.0  2.0  32.1   83.0  179.0  119.4  42.0  4.00  4.4773  94.0   \n",
       "9  29.0  1.0  30.0   85.0  180.0   93.4  43.0  4.00  5.3845  88.0   \n",
       "\n",
       "   disease-progression  \n",
       "0                151.0  \n",
       "1                 75.0  \n",
       "2                141.0  \n",
       "3                206.0  \n",
       "4                135.0  \n",
       "5                 97.0  \n",
       "6                138.0  \n",
       "7                 63.0  \n",
       "8                110.0  \n",
       "9                310.0  "
      ]
     },
     "metadata": {},
     "output_type": "display_data"
    }
   ],
   "source": [
    "display(diabetes_df.head(10))"
   ]
  },
  {
   "cell_type": "markdown",
   "metadata": {},
   "source": [
    "### Showing Data Types"
   ]
  },
  {
   "cell_type": "code",
   "execution_count": 5,
   "metadata": {},
   "outputs": [
    {
     "name": "stdout",
     "output_type": "stream",
     "text": [
      "<class 'pandas.core.frame.DataFrame'>\n",
      "RangeIndex: 442 entries, 0 to 441\n",
      "Data columns (total 11 columns):\n",
      " #   Column               Non-Null Count  Dtype  \n",
      "---  ------               --------------  -----  \n",
      " 0   age                  442 non-null    float64\n",
      " 1   sex                  442 non-null    float64\n",
      " 2   bmi                  442 non-null    float64\n",
      " 3   bp                   442 non-null    float64\n",
      " 4   s1                   442 non-null    float64\n",
      " 5   s2                   442 non-null    float64\n",
      " 6   s3                   442 non-null    float64\n",
      " 7   s4                   442 non-null    float64\n",
      " 8   s5                   442 non-null    float64\n",
      " 9   s6                   442 non-null    float64\n",
      " 10  disease-progression  442 non-null    float64\n",
      "dtypes: float64(11)\n",
      "memory usage: 38.1 KB\n"
     ]
    },
    {
     "data": {
      "text/plain": [
       "None"
      ]
     },
     "metadata": {},
     "output_type": "display_data"
    }
   ],
   "source": [
    "display(diabetes_df.info())"
   ]
  },
  {
   "cell_type": "markdown",
   "metadata": {},
   "source": [
    "As we can see, all columns are numerical (float64) and there are no missing values."
   ]
  },
  {
   "cell_type": "markdown",
   "metadata": {},
   "source": [
    "### Handling Missing Values"
   ]
  },
  {
   "cell_type": "code",
   "execution_count": 6,
   "metadata": {},
   "outputs": [
    {
     "name": "stdout",
     "output_type": "stream",
     "text": [
      "column age has 0 missing values\n",
      "column sex has 0 missing values\n",
      "column bmi has 0 missing values\n",
      "column bp has 0 missing values\n",
      "column s1 has 0 missing values\n",
      "column s2 has 0 missing values\n",
      "column s3 has 0 missing values\n",
      "column s4 has 0 missing values\n",
      "column s5 has 0 missing values\n",
      "column s6 has 0 missing values\n",
      "column disease-progression has 0 missing values\n"
     ]
    }
   ],
   "source": [
    "def count_nulls(df):\n",
    "    for col in df.columns:\n",
    "        print(f'column {col} has {df[col].isnull().sum()} missing values')\n",
    "count_nulls(diabetes_df)"
   ]
  },
  {
   "cell_type": "markdown",
   "metadata": {},
   "source": [
    "As we can see, and also it was mentioned before, there are no missing values in this dataset so we can proceed to the next step."
   ]
  },
  {
   "cell_type": "markdown",
   "metadata": {},
   "source": [
    "### Normalizing Features"
   ]
  },
  {
   "cell_type": "markdown",
   "metadata": {},
   "source": [
    "In this part wr will normalize the features to ensure all are on a similar scale. For this purpose we use Min-Max scaling which scales the data to a fixed range, typically between 0 and 1."
   ]
  },
  {
   "cell_type": "code",
   "execution_count": 7,
   "metadata": {},
   "outputs": [
    {
     "data": {
      "text/html": [
       "<div>\n",
       "<style scoped>\n",
       "    .dataframe tbody tr th:only-of-type {\n",
       "        vertical-align: middle;\n",
       "    }\n",
       "\n",
       "    .dataframe tbody tr th {\n",
       "        vertical-align: top;\n",
       "    }\n",
       "\n",
       "    .dataframe thead th {\n",
       "        text-align: right;\n",
       "    }\n",
       "</style>\n",
       "<table border=\"1\" class=\"dataframe\">\n",
       "  <thead>\n",
       "    <tr style=\"text-align: right;\">\n",
       "      <th></th>\n",
       "      <th>age</th>\n",
       "      <th>sex</th>\n",
       "      <th>bmi</th>\n",
       "      <th>bp</th>\n",
       "      <th>s1</th>\n",
       "      <th>s2</th>\n",
       "      <th>s3</th>\n",
       "      <th>s4</th>\n",
       "      <th>s5</th>\n",
       "      <th>s6</th>\n",
       "      <th>disease-progression</th>\n",
       "    </tr>\n",
       "  </thead>\n",
       "  <tbody>\n",
       "    <tr>\n",
       "      <th>0</th>\n",
       "      <td>0.666667</td>\n",
       "      <td>1.0</td>\n",
       "      <td>0.582645</td>\n",
       "      <td>0.549296</td>\n",
       "      <td>0.294118</td>\n",
       "      <td>0.256972</td>\n",
       "      <td>0.207792</td>\n",
       "      <td>0.282087</td>\n",
       "      <td>0.562217</td>\n",
       "      <td>0.439394</td>\n",
       "      <td>0.392523</td>\n",
       "    </tr>\n",
       "    <tr>\n",
       "      <th>1</th>\n",
       "      <td>0.483333</td>\n",
       "      <td>0.0</td>\n",
       "      <td>0.148760</td>\n",
       "      <td>0.352113</td>\n",
       "      <td>0.421569</td>\n",
       "      <td>0.306773</td>\n",
       "      <td>0.623377</td>\n",
       "      <td>0.141044</td>\n",
       "      <td>0.222437</td>\n",
       "      <td>0.166667</td>\n",
       "      <td>0.155763</td>\n",
       "    </tr>\n",
       "    <tr>\n",
       "      <th>2</th>\n",
       "      <td>0.883333</td>\n",
       "      <td>1.0</td>\n",
       "      <td>0.516529</td>\n",
       "      <td>0.436620</td>\n",
       "      <td>0.289216</td>\n",
       "      <td>0.258964</td>\n",
       "      <td>0.246753</td>\n",
       "      <td>0.282087</td>\n",
       "      <td>0.496578</td>\n",
       "      <td>0.409091</td>\n",
       "      <td>0.361371</td>\n",
       "    </tr>\n",
       "    <tr>\n",
       "      <th>3</th>\n",
       "      <td>0.083333</td>\n",
       "      <td>0.0</td>\n",
       "      <td>0.301653</td>\n",
       "      <td>0.309859</td>\n",
       "      <td>0.495098</td>\n",
       "      <td>0.447211</td>\n",
       "      <td>0.233766</td>\n",
       "      <td>0.423131</td>\n",
       "      <td>0.572923</td>\n",
       "      <td>0.469697</td>\n",
       "      <td>0.563863</td>\n",
       "    </tr>\n",
       "    <tr>\n",
       "      <th>4</th>\n",
       "      <td>0.516667</td>\n",
       "      <td>0.0</td>\n",
       "      <td>0.206612</td>\n",
       "      <td>0.549296</td>\n",
       "      <td>0.465686</td>\n",
       "      <td>0.417331</td>\n",
       "      <td>0.389610</td>\n",
       "      <td>0.282087</td>\n",
       "      <td>0.362385</td>\n",
       "      <td>0.333333</td>\n",
       "      <td>0.342679</td>\n",
       "    </tr>\n",
       "    <tr>\n",
       "      <th>5</th>\n",
       "      <td>0.066667</td>\n",
       "      <td>0.0</td>\n",
       "      <td>0.190083</td>\n",
       "      <td>0.380282</td>\n",
       "      <td>0.205882</td>\n",
       "      <td>0.115538</td>\n",
       "      <td>0.506494</td>\n",
       "      <td>0.000000</td>\n",
       "      <td>0.327003</td>\n",
       "      <td>0.151515</td>\n",
       "      <td>0.224299</td>\n",
       "    </tr>\n",
       "    <tr>\n",
       "      <th>6</th>\n",
       "      <td>0.283333</td>\n",
       "      <td>1.0</td>\n",
       "      <td>0.165289</td>\n",
       "      <td>0.394366</td>\n",
       "      <td>0.308824</td>\n",
       "      <td>0.288845</td>\n",
       "      <td>0.363636</td>\n",
       "      <td>0.141044</td>\n",
       "      <td>0.243287</td>\n",
       "      <td>0.363636</td>\n",
       "      <td>0.352025</td>\n",
       "    </tr>\n",
       "    <tr>\n",
       "      <th>7</th>\n",
       "      <td>0.783333</td>\n",
       "      <td>1.0</td>\n",
       "      <td>0.338843</td>\n",
       "      <td>0.732394</td>\n",
       "      <td>0.774510</td>\n",
       "      <td>0.714143</td>\n",
       "      <td>0.441558</td>\n",
       "      <td>0.359661</td>\n",
       "      <td>0.347643</td>\n",
       "      <td>0.515152</td>\n",
       "      <td>0.118380</td>\n",
       "    </tr>\n",
       "    <tr>\n",
       "      <th>8</th>\n",
       "      <td>0.683333</td>\n",
       "      <td>1.0</td>\n",
       "      <td>0.582645</td>\n",
       "      <td>0.295775</td>\n",
       "      <td>0.401961</td>\n",
       "      <td>0.387450</td>\n",
       "      <td>0.259740</td>\n",
       "      <td>0.282087</td>\n",
       "      <td>0.427955</td>\n",
       "      <td>0.545455</td>\n",
       "      <td>0.264798</td>\n",
       "    </tr>\n",
       "    <tr>\n",
       "      <th>9</th>\n",
       "      <td>0.166667</td>\n",
       "      <td>0.0</td>\n",
       "      <td>0.495868</td>\n",
       "      <td>0.323944</td>\n",
       "      <td>0.406863</td>\n",
       "      <td>0.257968</td>\n",
       "      <td>0.272727</td>\n",
       "      <td>0.282087</td>\n",
       "      <td>0.746393</td>\n",
       "      <td>0.454545</td>\n",
       "      <td>0.887850</td>\n",
       "    </tr>\n",
       "  </tbody>\n",
       "</table>\n",
       "</div>"
      ],
      "text/plain": [
       "        age  sex       bmi        bp        s1        s2        s3        s4  \\\n",
       "0  0.666667  1.0  0.582645  0.549296  0.294118  0.256972  0.207792  0.282087   \n",
       "1  0.483333  0.0  0.148760  0.352113  0.421569  0.306773  0.623377  0.141044   \n",
       "2  0.883333  1.0  0.516529  0.436620  0.289216  0.258964  0.246753  0.282087   \n",
       "3  0.083333  0.0  0.301653  0.309859  0.495098  0.447211  0.233766  0.423131   \n",
       "4  0.516667  0.0  0.206612  0.549296  0.465686  0.417331  0.389610  0.282087   \n",
       "5  0.066667  0.0  0.190083  0.380282  0.205882  0.115538  0.506494  0.000000   \n",
       "6  0.283333  1.0  0.165289  0.394366  0.308824  0.288845  0.363636  0.141044   \n",
       "7  0.783333  1.0  0.338843  0.732394  0.774510  0.714143  0.441558  0.359661   \n",
       "8  0.683333  1.0  0.582645  0.295775  0.401961  0.387450  0.259740  0.282087   \n",
       "9  0.166667  0.0  0.495868  0.323944  0.406863  0.257968  0.272727  0.282087   \n",
       "\n",
       "         s5        s6  disease-progression  \n",
       "0  0.562217  0.439394             0.392523  \n",
       "1  0.222437  0.166667             0.155763  \n",
       "2  0.496578  0.409091             0.361371  \n",
       "3  0.572923  0.469697             0.563863  \n",
       "4  0.362385  0.333333             0.342679  \n",
       "5  0.327003  0.151515             0.224299  \n",
       "6  0.243287  0.363636             0.352025  \n",
       "7  0.347643  0.515152             0.118380  \n",
       "8  0.427955  0.545455             0.264798  \n",
       "9  0.746393  0.454545             0.887850  "
      ]
     },
     "metadata": {},
     "output_type": "display_data"
    }
   ],
   "source": [
    "def normalize_data(df, scaler = MinMaxScaler()):\n",
    "    df[df.columns] = scaler.fit_transform(df[df.columns])\n",
    "\n",
    "normalize_data(diabetes_df)\n",
    "display(diabetes_df.head(10))"
   ]
  },
  {
   "cell_type": "markdown",
   "metadata": {},
   "source": [
    "### Splitting the data into Training and Testing sets"
   ]
  },
  {
   "cell_type": "markdown",
   "metadata": {},
   "source": [
    "In this part we will split the data into training and testing sets. We will use 80% of the data for training and 20% for testing."
   ]
  },
  {
   "cell_type": "code",
   "execution_count": 8,
   "metadata": {},
   "outputs": [
    {
     "name": "stdout",
     "output_type": "stream",
     "text": [
      "shape of X_train: (353, 10)\n",
      "shape of X_test: (89, 10)\n",
      "shape of y_train: (353,)\n",
      "shape of y_test: (89,)\n"
     ]
    }
   ],
   "source": [
    "def split_train_test(df, target_column, test_size=TEST_SIZE):\n",
    "    X = df.drop(target_column, axis=1)\n",
    "    y = df[target_column]\n",
    "    X_train, X_test, y_train, y_test = train_test_split(X, y, test_size=test_size, random_state=42)\n",
    "    return X_train, X_test, y_train, y_test\n",
    "\n",
    "X_train, X_test, y_train, y_test = split_train_test(diabetes_df, 'disease-progression')\n",
    "print(f'shape of X_train: {X_train.shape}')\n",
    "print(f'shape of X_test: {X_test.shape}')\n",
    "print(f'shape of y_train: {y_train.shape}')\n",
    "print(f'shape of y_test: {y_test.shape}')"
   ]
  },
  {
   "cell_type": "markdown",
   "metadata": {},
   "source": [
    "The shape provides information about the dimensions of the variable arrays in the training or testing set. The target variable has only one dimension, while the feature variables have 10 dimensions. Also as we can see the training set has 353 samples and the testing set has 89 samples which is 20% of the total data."
   ]
  },
  {
   "cell_type": "markdown",
   "metadata": {},
   "source": [
    "## Part 1: Functions’ Implementation"
   ]
  },
  {
   "cell_type": "markdown",
   "metadata": {},
   "source": [
    "In this part we will implement the following functions:\n",
    "- Mean Squared Error (MSE)\n",
    "- Mean Absolute Error (MAE)\n",
    "- Root Mean Squared Error (RMSE)\n",
    "- $R^{2}$ Score (Coefficient of Determination)"
   ]
  },
  {
   "cell_type": "markdown",
   "metadata": {},
   "source": [
    "### Mean Squared Error (MSE) Implementation"
   ]
  },
  {
   "cell_type": "markdown",
   "metadata": {},
   "source": [
    "Mean Squared Error (MSE) is the average of the squared differences between the predicted and actual values. It is a measure of how close a fitted line is to actual data points. A small MSE means the predicted and actual values are close.\n",
    "$$MSE = \\frac{1}{n} \\sum_{i=1}^{n} (y_{i} - \\hat{y}_{i})^{2}$$"
   ]
  },
  {
   "cell_type": "code",
   "execution_count": 9,
   "metadata": {},
   "outputs": [],
   "source": [
    "def calc_mean_squared_error(y_true, y_pred):\n",
    "    squared_errors = [(true - pred) ** 2 for true, pred in zip(y_true, y_pred)]\n",
    "    mse = sum(squared_errors) / len(squared_errors)\n",
    "    return mse"
   ]
  },
  {
   "cell_type": "markdown",
   "metadata": {},
   "source": [
    "### Mean Absolute Error (MAE) Implementation"
   ]
  },
  {
   "cell_type": "markdown",
   "metadata": {},
   "source": [
    "Mean Absolute Error (MAE) is the average of the absolute differences between the predicted and actual values. It is a measure of errors between paired observations expressing the same phenomenon.\n",
    "$$MAE = \\frac{1}{n} \\sum_{i=1}^{n} |y_{i} - \\hat{y}_{i}|$$"
   ]
  },
  {
   "cell_type": "code",
   "execution_count": 10,
   "metadata": {},
   "outputs": [],
   "source": [
    "def calc_mean_absolute_error(y_true, y_pred):\n",
    "    absolute_errors = [abs(true - pred) for true, pred in zip(y_true, y_pred)]\n",
    "    mae = sum(absolute_errors) / len(absolute_errors)\n",
    "    return mae"
   ]
  },
  {
   "cell_type": "markdown",
   "metadata": {},
   "source": [
    "### Root Mean Squared Error (RMSE) Implementation"
   ]
  },
  {
   "cell_type": "markdown",
   "metadata": {},
   "source": [
    "Root Mean Squared Error (RMSE) is the square root of the average of the squared differences between the predicted and actual values. It is a measure of the differences between values predicted by a model and the values observed.\n",
    "$$RMSE = \\sqrt{\\frac{1}{n} \\sum_{i=1}^{n} (y_{i} - \\hat{y}_{i})^{2}}$$"
   ]
  },
  {
   "cell_type": "code",
   "execution_count": 11,
   "metadata": {},
   "outputs": [],
   "source": [
    "def calc_root_mean_squared_error(y_true, y_pred):\n",
    "    squared_errors = [(true - pred) ** 2 for true, pred in zip(y_true, y_pred)]\n",
    "    mean_squared_error = sum(squared_errors) / len(squared_errors)\n",
    "    rmse = math.sqrt(mean_squared_error)\n",
    "    return rmse"
   ]
  },
  {
   "cell_type": "markdown",
   "metadata": {},
   "source": [
    "### $R^2$ Score (Coefficient of Determination) Implementation"
   ]
  },
  {
   "cell_type": "markdown",
   "metadata": {},
   "source": [
    "$R^2$ Score (Coefficient of Determination) is a statistical measure of how close the data are to the fitted regression line. It is also known as the coefficient of determination. The values for $R^2$ range from 0 to 1, which captures the percentage of squared correlation between the predicted and actual values.\n",
    "$$R^{2} = 1 - \\frac{\\sum_{i=1}^{n} (y_{i} - \\hat{y}_{i})^{2}}{\\sum_{i=1}^{n} (y_{i} - \\bar{y})^{2}}$$"
   ]
  },
  {
   "cell_type": "code",
   "execution_count": 12,
   "metadata": {},
   "outputs": [],
   "source": [
    "def calc_r2_score(y_true, y_pred):\n",
    "    mean_true = sum(y_true) / len(y_true)\n",
    "    tss = sum([(true - mean_true) ** 2 for true in y_true])\n",
    "    rss = sum([(true - pred) ** 2 for true, pred in zip(y_true, y_pred)])\n",
    "    r2 = 1 - (rss / tss)\n",
    "    return r2"
   ]
  },
  {
   "cell_type": "markdown",
   "metadata": {},
   "source": [
    "### Adjusted $R^2$ Score Implementation"
   ]
  },
  {
   "cell_type": "markdown",
   "metadata": {},
   "source": [
    "Adjusted $R^2$ Score is a modified version of $R^2$ that adjusts for the number of predictors in a regression model. It is calculated as:\n",
    "$$Adjusted \\ R^{2} = 1 - \\frac{(1 - R^{2}) (n - 1)}{n - p - 1}$$"
   ]
  },
  {
   "cell_type": "code",
   "execution_count": 13,
   "metadata": {},
   "outputs": [],
   "source": [
    "def calc_adjusted_r2_score(y_true, y_pred, n_features):\n",
    "    r2 = calc_r2_score(y_true, y_pred)\n",
    "    n = len(y_true)\n",
    "    adjusted_r2 = 1 - ((1 - r2) * (n - 1) / (n - n_features - 1))\n",
    "    return adjusted_r2"
   ]
  },
  {
   "cell_type": "markdown",
   "metadata": {},
   "source": [
    "## Part 2: Building and Training the Linear Regression Model"
   ]
  },
  {
   "cell_type": "code",
   "execution_count": 14,
   "metadata": {},
   "outputs": [],
   "source": [
    "def train_linear_regression(X_train, y_train, predict):\n",
    "    model = LinearRegression()\n",
    "    model.fit(X_train, y_train)\n",
    "    return model.predict(predict)\n",
    "\n",
    "y_test_pred = train_linear_regression(X_train, y_train, X_test)\n"
   ]
  },
  {
   "cell_type": "markdown",
   "metadata": {},
   "source": [
    "## Part 3: Evaluating the Model"
   ]
  },
  {
   "cell_type": "code",
   "execution_count": 15,
   "metadata": {},
   "outputs": [
    {
     "data": {
      "image/png": "[encoded data removed]",
      "text/plain": [
       "<Figure size 576x432 with 1 Axes>"
      ]
     },
     "metadata": {
      "needs_background": "light"
     },
     "output_type": "display_data"
    }
   ],
   "source": [
    "def plot_results(y_true, y_pred):\n",
    "    plt.figure(figsize=(8, 6))\n",
    "    plt.scatter(y_test, y_pred, color='blue', alpha=0.7)\n",
    "    plt.plot([min(y_test), max(y_test)], [min(y_test), max(y_test)], color='red', linestyle='--')\n",
    "    plt.title('Actual vs. Predicted Progression Measures')\n",
    "    plt.xlabel('Actual Progression Measures')\n",
    "    plt.ylabel('Predicted Progression Measures')\n",
    "    plt.show()\n",
    "    \n",
    "plot_results(y_test, y_test_pred)"
   ]
  },
  {
   "cell_type": "code",
   "execution_count": 16,
   "metadata": {},
   "outputs": [
    {
     "name": "stdout",
     "output_type": "stream",
     "text": [
      "--------------------------------------\n",
      "Statistics For Test Data\n",
      "--------------------------------------\n",
      "mean squared error: 0.028146015940193524\n",
      "mean absolute error: 0.133314936696573\n",
      "root mean squared error: 0.16776774403976924\n",
      "r2 score: 0.4526027629719195\n"
     ]
    }
   ],
   "source": [
    "def print_statics(data, mse, mae, rmse, r2):\n",
    "    print(f'--------------------------------------\\nStatistics For {data}\\n--------------------------------------')\n",
    "    print(f'mean squared error: {mse}')\n",
    "    print(f'mean absolute error: {mae}')\n",
    "    print(f'root mean squared error: {rmse}')\n",
    "    print(f'r2 score: {r2}')\n",
    "\n",
    "def calc_metrics(y_true, y_pred):\n",
    "    mse = calc_mean_squared_error(y_true, y_pred)\n",
    "    mae = calc_mean_absolute_error(y_true, y_pred)\n",
    "    rmse = calc_root_mean_squared_error(y_true, y_pred)\n",
    "    r2 = calc_r2_score(y_true, y_pred)\n",
    "    return mse, mae, rmse, r2\n",
    "\n",
    "mse, mae, rmse, r2 = calc_metrics(y_test, y_test_pred)\n",
    "print_statics('Test Data', mse, mae, rmse, r2)\n"
   ]
  },
  {
   "cell_type": "code",
   "execution_count": 17,
   "metadata": {},
   "outputs": [
    {
     "name": "stdout",
     "output_type": "stream",
     "text": [
      "--------------------------------------\n",
      "Statistics For Train Data\n",
      "--------------------------------------\n",
      "mean squared error: 0.02783891560481339\n",
      "mean absolute error: 0.1354626278005621\n",
      "root mean squared error: 0.166849979337168\n",
      "r2 score: 0.52791938633615\n"
     ]
    }
   ],
   "source": [
    "y_train_pred = train_linear_regression(X_train, y_train, X_train)\n",
    "mse, mae, rmse, r2 = calc_metrics(y_train, y_train_pred)\n",
    "print_statics('Train Data', mse, mae, rmse, r2)"
   ]
  },
  {
   "cell_type": "markdown",
   "metadata": {},
   "source": [
    "<style>\n",
    "table {\n",
    "    margin-left: auto;\n",
    "    margin-right: auto;\n",
    "}\n",
    "</style>\n",
    "\n",
    "| Data Type / Optimizer   | MSE   | MAE   | RMSE  | $R^{2}$ Score |                                                                 \n",
    "|:------------------------|:------|:------|:------|:--------------|\n",
    "| Train Set               | 0.027 | 0.13  | 0.16  | 0.52          |\n",
    "| Test Set                | 0.028 | 0.13  | 0.16  | 0.45          |\n"
   ]
  },
  {
   "cell_type": "markdown",
   "metadata": {},
   "source": [
    "## Part 4: Ordinary Least Squares (OLS)"
   ]
  },
  {
   "cell_type": "markdown",
   "metadata": {},
   "source": [
    "### Using Functions from sklearn.metrics"
   ]
  },
  {
   "cell_type": "code",
   "execution_count": 18,
   "metadata": {},
   "outputs": [
    {
     "name": "stdout",
     "output_type": "stream",
     "text": [
      "--------------------------------------\n",
      "Statistics For Test Data\n",
      "--------------------------------------\n",
      "mean squared error: 0.02814601594019353\n",
      "mean absolute error: 0.133314936696573\n",
      "root mean squared error: 0.16776774403976924\n",
      "r2 score: 0.45260276297191937\n"
     ]
    }
   ],
   "source": [
    "from sklearn.metrics import mean_squared_error, mean_absolute_error, r2_score\n",
    "def sklearn_metrics(y_true, y_pred):\n",
    "    mse = mean_squared_error(y_true, y_pred)\n",
    "    mae = mean_absolute_error(y_true, y_pred)\n",
    "    rmse = math.sqrt(mse)\n",
    "    r2 = r2_score(y_true, y_pred)\n",
    "    return mse, mae, rmse, r2\n",
    "\n",
    "mse, mae, rmse, r2 = sklearn_metrics(y_test, y_test_pred)\n",
    "print_statics('Test Data', mse, mae, rmse, r2)"
   ]
  },
  {
   "cell_type": "code",
   "execution_count": 19,
   "metadata": {},
   "outputs": [
    {
     "name": "stdout",
     "output_type": "stream",
     "text": [
      "--------------------------------------\n",
      "Statistics For Train Data\n",
      "--------------------------------------\n",
      "mean squared error: 0.0278389156048134\n",
      "mean absolute error: 0.13546262780056198\n",
      "root mean squared error: 0.16684997933716803\n",
      "r2 score: 0.5279193863361498\n"
     ]
    }
   ],
   "source": [
    "mse, mae, rmse, r2 = sklearn_metrics(y_train, y_train_pred)\n",
    "print_statics('Train Data', mse, mae, rmse, r2)"
   ]
  },
  {
   "cell_type": "markdown",
   "metadata": {},
   "source": [
    "As we can see, the results are similar to the ones we implemented before."
   ]
  },
  {
   "cell_type": "code",
   "execution_count": 20,
   "metadata": {},
   "outputs": [
    {
     "data": {
      "text/html": [
       "<table class=\"simpletable\">\n",
       "<caption>OLS Regression Results</caption>\n",
       "<tr>\n",
       "  <th>Dep. Variable:</th>    <td>disease-progression</td> <th>  R-squared (uncentered):</th>      <td>   0.873</td> \n",
       "</tr>\n",
       "<tr>\n",
       "  <th>Model:</th>                    <td>OLS</td>         <th>  Adj. R-squared (uncentered):</th> <td>   0.869</td> \n",
       "</tr>\n",
       "<tr>\n",
       "  <th>Method:</th>              <td>Least Squares</td>    <th>  F-statistic:       </th>          <td>   235.7</td> \n",
       "</tr>\n",
       "<tr>\n",
       "  <th>Date:</th>              <td>Sat, 20 Apr 2024</td>   <th>  Prob (F-statistic):</th>          <td>4.57e-147</td>\n",
       "</tr>\n",
       "<tr>\n",
       "  <th>Time:</th>                  <td>14:24:43</td>       <th>  Log-Likelihood:    </th>          <td>  130.71</td> \n",
       "</tr>\n",
       "<tr>\n",
       "  <th>No. Observations:</th>       <td>   353</td>        <th>  AIC:               </th>          <td>  -241.4</td> \n",
       "</tr>\n",
       "<tr>\n",
       "  <th>Df Residuals:</th>           <td>   343</td>        <th>  BIC:               </th>          <td>  -202.7</td> \n",
       "</tr>\n",
       "<tr>\n",
       "  <th>Df Model:</th>               <td>    10</td>        <th>                     </th>              <td> </td>    \n",
       "</tr>\n",
       "<tr>\n",
       "  <th>Covariance Type:</th>       <td>nonrobust</td>      <th>                     </th>              <td> </td>    \n",
       "</tr>\n",
       "</table>\n",
       "<table class=\"simpletable\">\n",
       "<tr>\n",
       "   <td></td>      <th>coef</th>     <th>std err</th>      <th>t</th>      <th>P>|t|</th>  <th>[0.025</th>    <th>0.975]</th>  \n",
       "</tr>\n",
       "<tr>\n",
       "  <th>age</th> <td>    0.0239</td> <td>    0.047</td> <td>    0.511</td> <td> 0.610</td> <td>   -0.068</td> <td>    0.116</td>\n",
       "</tr>\n",
       "<tr>\n",
       "  <th>sex</th> <td>   -0.0735</td> <td>    0.020</td> <td>   -3.620</td> <td> 0.000</td> <td>   -0.113</td> <td>   -0.034</td>\n",
       "</tr>\n",
       "<tr>\n",
       "  <th>bmi</th> <td>    0.4410</td> <td>    0.063</td> <td>    7.052</td> <td> 0.000</td> <td>    0.318</td> <td>    0.564</td>\n",
       "</tr>\n",
       "<tr>\n",
       "  <th>bp</th>  <td>    0.2606</td> <td>    0.054</td> <td>    4.810</td> <td> 0.000</td> <td>    0.154</td> <td>    0.367</td>\n",
       "</tr>\n",
       "<tr>\n",
       "  <th>s1</th>  <td>   -0.4802</td> <td>    0.208</td> <td>   -2.311</td> <td> 0.021</td> <td>   -0.889</td> <td>   -0.072</td>\n",
       "</tr>\n",
       "<tr>\n",
       "  <th>s2</th>  <td>    0.2279</td> <td>    0.220</td> <td>    1.034</td> <td> 0.302</td> <td>   -0.206</td> <td>    0.661</td>\n",
       "</tr>\n",
       "<tr>\n",
       "  <th>s3</th>  <td>   -0.0461</td> <td>    0.077</td> <td>   -0.601</td> <td> 0.548</td> <td>   -0.197</td> <td>    0.105</td>\n",
       "</tr>\n",
       "<tr>\n",
       "  <th>s4</th>  <td>    0.1485</td> <td>    0.131</td> <td>    1.138</td> <td> 0.256</td> <td>   -0.108</td> <td>    0.405</td>\n",
       "</tr>\n",
       "<tr>\n",
       "  <th>s5</th>  <td>    0.4792</td> <td>    0.103</td> <td>    4.654</td> <td> 0.000</td> <td>    0.277</td> <td>    0.682</td>\n",
       "</tr>\n",
       "<tr>\n",
       "  <th>s6</th>  <td>    0.0362</td> <td>    0.062</td> <td>    0.580</td> <td> 0.562</td> <td>   -0.086</td> <td>    0.159</td>\n",
       "</tr>\n",
       "</table>\n",
       "<table class=\"simpletable\">\n",
       "<tr>\n",
       "  <th>Omnibus:</th>       <td> 1.535</td> <th>  Durbin-Watson:     </th> <td>   1.812</td>\n",
       "</tr>\n",
       "<tr>\n",
       "  <th>Prob(Omnibus):</th> <td> 0.464</td> <th>  Jarque-Bera (JB):  </th> <td>   1.503</td>\n",
       "</tr>\n",
       "<tr>\n",
       "  <th>Skew:</th>          <td> 0.081</td> <th>  Prob(JB):          </th> <td>   0.472</td>\n",
       "</tr>\n",
       "<tr>\n",
       "  <th>Kurtosis:</th>      <td> 2.724</td> <th>  Cond. No.          </th> <td>    48.5</td>\n",
       "</tr>\n",
       "</table><br/><br/>Notes:<br/>[1] R² is computed without centering (uncentered) since the model does not contain a constant.<br/>[2] Standard Errors assume that the covariance matrix of the errors is correctly specified."
      ],
      "text/latex": [
       "\\begin{center}\n",
       "\\begin{tabular}{lclc}\n",
       "\\toprule\n",
       "\\textbf{Dep. Variable:}    & disease-progression & \\textbf{  R-squared (uncentered):}      &     0.873   \\\\\n",
       "\\textbf{Model:}            &         OLS         & \\textbf{  Adj. R-squared (uncentered):} &     0.869   \\\\\n",
       "\\textbf{Method:}           &    Least Squares    & \\textbf{  F-statistic:       }          &     235.7   \\\\\n",
       "\\textbf{Date:}             &   Sat, 20 Apr 2024  & \\textbf{  Prob (F-statistic):}          & 4.57e-147   \\\\\n",
       "\\textbf{Time:}             &       14:24:43      & \\textbf{  Log-Likelihood:    }          &    130.71   \\\\\n",
       "\\textbf{No. Observations:} &           353       & \\textbf{  AIC:               }          &    -241.4   \\\\\n",
       "\\textbf{Df Residuals:}     &           343       & \\textbf{  BIC:               }          &    -202.7   \\\\\n",
       "\\textbf{Df Model:}         &            10       & \\textbf{                     }          &             \\\\\n",
       "\\textbf{Covariance Type:}  &      nonrobust      & \\textbf{                     }          &             \\\\\n",
       "\\bottomrule\n",
       "\\end{tabular}\n",
       "\\begin{tabular}{lcccccc}\n",
       "             & \\textbf{coef} & \\textbf{std err} & \\textbf{t} & \\textbf{P$> |$t$|$} & \\textbf{[0.025} & \\textbf{0.975]}  \\\\\n",
       "\\midrule\n",
       "\\textbf{age} &       0.0239  &        0.047     &     0.511  &         0.610        &       -0.068    &        0.116     \\\\\n",
       "\\textbf{sex} &      -0.0735  &        0.020     &    -3.620  &         0.000        &       -0.113    &       -0.034     \\\\\n",
       "\\textbf{bmi} &       0.4410  &        0.063     &     7.052  &         0.000        &        0.318    &        0.564     \\\\\n",
       "\\textbf{bp}  &       0.2606  &        0.054     &     4.810  &         0.000        &        0.154    &        0.367     \\\\\n",
       "\\textbf{s1}  &      -0.4802  &        0.208     &    -2.311  &         0.021        &       -0.889    &       -0.072     \\\\\n",
       "\\textbf{s2}  &       0.2279  &        0.220     &     1.034  &         0.302        &       -0.206    &        0.661     \\\\\n",
       "\\textbf{s3}  &      -0.0461  &        0.077     &    -0.601  &         0.548        &       -0.197    &        0.105     \\\\\n",
       "\\textbf{s4}  &       0.1485  &        0.131     &     1.138  &         0.256        &       -0.108    &        0.405     \\\\\n",
       "\\textbf{s5}  &       0.4792  &        0.103     &     4.654  &         0.000        &        0.277    &        0.682     \\\\\n",
       "\\textbf{s6}  &       0.0362  &        0.062     &     0.580  &         0.562        &       -0.086    &        0.159     \\\\\n",
       "\\bottomrule\n",
       "\\end{tabular}\n",
       "\\begin{tabular}{lclc}\n",
       "\\textbf{Omnibus:}       &  1.535 & \\textbf{  Durbin-Watson:     } &    1.812  \\\\\n",
       "\\textbf{Prob(Omnibus):} &  0.464 & \\textbf{  Jarque-Bera (JB):  } &    1.503  \\\\\n",
       "\\textbf{Skew:}          &  0.081 & \\textbf{  Prob(JB):          } &    0.472  \\\\\n",
       "\\textbf{Kurtosis:}      &  2.724 & \\textbf{  Cond. No.          } &     48.5  \\\\\n",
       "\\bottomrule\n",
       "\\end{tabular}\n",
       "%\\caption{OLS Regression Results}\n",
       "\\end{center}\n",
       "\n",
       "Notes: \\newline\n",
       " [1] R² is computed without centering (uncentered) since the model does not contain a constant. \\newline\n",
       " [2] Standard Errors assume that the covariance matrix of the errors is correctly specified."
      ],
      "text/plain": [
       "<class 'statsmodels.iolib.summary.Summary'>\n",
       "\"\"\"\n",
       "                                 OLS Regression Results                                 \n",
       "========================================================================================\n",
       "Dep. Variable:     disease-progression   R-squared (uncentered):                   0.873\n",
       "Model:                             OLS   Adj. R-squared (uncentered):              0.869\n",
       "Method:                  Least Squares   F-statistic:                              235.7\n",
       "Date:                 Sat, 20 Apr 2024   Prob (F-statistic):                   4.57e-147\n",
       "Time:                         14:24:43   Log-Likelihood:                          130.71\n",
       "No. Observations:                  353   AIC:                                     -241.4\n",
       "Df Residuals:                      343   BIC:                                     -202.7\n",
       "Df Model:                           10                                                  \n",
       "Covariance Type:             nonrobust                                                  \n",
       "==============================================================================\n",
       "                 coef    std err          t      P>|t|      [0.025      0.975]\n",
       "------------------------------------------------------------------------------\n",
       "age            0.0239      0.047      0.511      0.610      -0.068       0.116\n",
       "sex           -0.0735      0.020     -3.620      0.000      -0.113      -0.034\n",
       "bmi            0.4410      0.063      7.052      0.000       0.318       0.564\n",
       "bp             0.2606      0.054      4.810      0.000       0.154       0.367\n",
       "s1            -0.4802      0.208     -2.311      0.021      -0.889      -0.072\n",
       "s2             0.2279      0.220      1.034      0.302      -0.206       0.661\n",
       "s3            -0.0461      0.077     -0.601      0.548      -0.197       0.105\n",
       "s4             0.1485      0.131      1.138      0.256      -0.108       0.405\n",
       "s5             0.4792      0.103      4.654      0.000       0.277       0.682\n",
       "s6             0.0362      0.062      0.580      0.562      -0.086       0.159\n",
       "==============================================================================\n",
       "Omnibus:                        1.535   Durbin-Watson:                   1.812\n",
       "Prob(Omnibus):                  0.464   Jarque-Bera (JB):                1.503\n",
       "Skew:                           0.081   Prob(JB):                        0.472\n",
       "Kurtosis:                       2.724   Cond. No.                         48.5\n",
       "==============================================================================\n",
       "\n",
       "Notes:\n",
       "[1] R² is computed without centering (uncentered) since the model does not contain a constant.\n",
       "[2] Standard Errors assume that the covariance matrix of the errors is correctly specified.\n",
       "\"\"\""
      ]
     },
     "metadata": {},
     "output_type": "display_data"
    }
   ],
   "source": [
    "import statsmodels.api as sm\n",
    "ols_model = sm.OLS(y_train, X_train)\n",
    "ols_results = ols_model.fit()\n",
    "y_pred = ols_results.predict(X_test)\n",
    "display(ols_results.summary())"
   ]
  }
 ],
 "metadata": {
  "kernelspec": {
   "display_name": "Python 3",
   "language": "python",
   "name": "python3"
  },
  "language_info": {
   "codemirror_mode": {
    "name": "ipython",
    "version": 3
   },
   "file_extension": ".py",
   "mimetype": "text/x-python",
   "name": "python",
   "nbconvert_exporter": "python",
   "pygments_lexer": "ipython3",
   "version": "3.10.4"
  },
  "orig_nbformat": 4
 },
 "nbformat": 4,
 "nbformat_minor": 2
}
